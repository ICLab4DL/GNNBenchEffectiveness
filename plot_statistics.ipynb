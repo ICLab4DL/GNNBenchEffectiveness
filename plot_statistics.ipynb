{
 "cells": [
  {
   "cell_type": "markdown",
   "metadata": {},
   "source": [
    "# Benchmark on OGB, https://ogb.stanford.edu/docs/home/"
   ]
  },
  {
   "cell_type": "code",
   "execution_count": 1,
   "metadata": {},
   "outputs": [
    {
     "name": "stderr",
     "output_type": "stream",
     "text": [
      "WARNING:root:The OGB package is out of date. Your version is 1.3.2, while the latest version is 1.3.4.\n"
     ]
    },
    {
     "data": {
      "text/plain": [
       "<module 'utils' from '/li_zhengdao/github/GenerativeGNN/utils.py'>"
      ]
     },
     "execution_count": 1,
     "metadata": {},
     "output_type": "execute_result"
    }
   ],
   "source": [
    "import importlib\n",
    "import random\n",
    "import argparse\n",
    "import configparser\n",
    "import numpy as np\n",
    "import networkx as nx\n",
    "from collections import defaultdict\n",
    "\n",
    "import torch\n",
    "import torch.nn as nn\n",
    "import torch.nn.functional as F\n",
    "import torch_sparse\n",
    "from torch import Tensor\n",
    "from torch.nn import Linear\n",
    "from torch.utils.data import DataLoader\n",
    "from torch.utils.data import TensorDataset\n",
    "import torch.optim as optim\n",
    "\n",
    "from torch_geometric.utils import negative_sampling, to_networkx\n",
    "from typing import Union, Tuple\n",
    "from torch_geometric.typing import OptPairTensor, Adj, OptTensor, Size\n",
    "from torch_sparse import SparseTensor, matmul\n",
    "from torch_geometric.nn.conv import MessagePassing\n",
    "\n",
    "from ogb.linkproppred import PygLinkPropPredDataset, Evaluator\n",
    "\n",
    "\n",
    "import networkx as nx\n",
    "import seaborn as sns\n",
    "from matplotlib.colors import ListedColormap\n",
    "import matplotlib.pyplot as plt\n",
    "\n",
    "import scipy\n",
    "import math\n",
    "\n",
    "\n",
    "from dataset_utils import node_feature_utils\n",
    "from dataset_utils.node_feature_utils import *\n",
    "import utils\n",
    "\n",
    "importlib.reload(utils)"
   ]
  },
  {
   "cell_type": "code",
   "execution_count": 2,
   "metadata": {},
   "outputs": [
    {
     "name": "stderr",
     "output_type": "stream",
     "text": [
      "WARNING:matplotlib.font_manager:findfont: Font family ['Times New Roman'] not found. Falling back to DejaVu Sans.\n",
      "WARNING:matplotlib.font_manager:findfont: Font family ['Times New Roman'] not found. Falling back to DejaVu Sans.\n"
     ]
    },
    {
     "data": {
      "image/png": "[encoded data removed]",
      "text/plain": [
       "<Figure size 640x338.2 with 13 Axes>"
      ]
     },
     "metadata": {
      "needs_background": "light"
     },
     "output_type": "display_data"
    }
   ],
   "source": [
    "import matplotlib.pyplot as plt\n",
    "import numpy as np\n",
    "import matplotlib as mpl\n",
    "import matplotlib.pyplot as plt\n",
    "from matplotlib import cm\n",
    "\n",
    "\n",
    "# here..\n",
    "cmaps = {}\n",
    "\n",
    "gradient = np.linspace(0, 1, 256)\n",
    "gradient = np.vstack((gradient, gradient))\n",
    "\n",
    "\n",
    "x_y_label_font = 20\n",
    "x_y_legend_font = 20\n",
    "\n",
    "plt.rc('font', family='Times New Roman')\n",
    "fig_dpi = 220\n",
    "fig_shape_squre = (6, 5)\n",
    "\n",
    "def plot_color_gradients(category, cmap_list):\n",
    "    # Create figure and adjust figure height to number of colormaps\n",
    "    nrows = len(cmap_list)\n",
    "    figh = 0.35 + 0.15 + (nrows + (nrows - 1) * 0.1) * 0.22\n",
    "    fig, axs = plt.subplots(nrows=nrows + 1, figsize=(6.4, figh), dpi=100)\n",
    "    fig.subplots_adjust(top=1 - 0.35 / figh, bottom=0.15 / figh,\n",
    "                        left=0.2, right=0.99)\n",
    "    axs[0].set_title(f'{category} colormaps', fontsize=14)\n",
    "\n",
    "    for ax, name in zip(axs, cmap_list):\n",
    "        ax.imshow(gradient, aspect='auto', cmap=plt.get_cmap(name))\n",
    "        ax.text(-0.01, 0.5, name, va='center', ha='right', fontsize=10,\n",
    "                transform=ax.transAxes)\n",
    "\n",
    "    # Turn off *all* ticks & spines, not just the ones with colormaps.\n",
    "    for ax in axs:\n",
    "        ax.set_axis_off()\n",
    "\n",
    "    # Save colormap list for later.\n",
    "    cmaps[category] = cmap_list\n",
    "    plt.show()\n",
    "\n",
    "class MyColor(object):\n",
    "    def __init__(self, cmap_name='tab10', skip_idx=5, backup_name='Set1', backup_color=3):\n",
    "        self.color_set  = plt.get_cmap(cmap_name).colors\n",
    "        self.backup_set = plt.get_cmap(backup_name).colors\n",
    "        self.backup_color = backup_color\n",
    "        self.skip_idx=skip_idx\n",
    "        self.idx = 0\n",
    "        self.color_len = len(self.color_set)\n",
    "        \n",
    "    def get_color(self):\n",
    "        if self.idx == self.color_len - 1:\n",
    "            self.idx = 0\n",
    "        if self.idx == self.skip_idx:\n",
    "            self.idx += 1\n",
    "            return self.backup_set[self.backup_color]\n",
    "        color = self.color_set[self.idx]\n",
    "        self.idx += 1\n",
    "        return color\n",
    "    \n",
    "\n",
    "plot_color_gradients('Qualitative',\n",
    "                     ['Pastel1', 'Pastel2', 'Paired', 'Accent', 'Dark2',\n",
    "                      'Set1', 'Set2', 'Set3', 'tab10', 'tab20', 'tab20b',\n",
    "                      'tab20c'])"
   ]
  },
  {
   "cell_type": "markdown",
   "metadata": {},
   "source": [
    "# TODO: 0918. For all benchmark datasets.\n",
    "* check the correlation between degree and CC \n",
    "* or $|C_k|$, $k>3$\n",
    "* Why related to training difficulty? because that GNN cannot learn them.\n",
    "* Why cannot learn? computational graphs are the same and is bounded by k-WL-test.\n",
    "* So requires additional information of subgraphs, but $O(kN)$ complexity.\n",
    "* so sampling may be a good choice.\n",
    "* may use DP to sample."
   ]
  },
  {
   "cell_type": "markdown",
   "metadata": {},
   "source": [
    "* based on above figure, pick same horizontal points\n",
    "- blueK=0.2, p=0.3, orangeK=0.25, p=0.35, greenK=0.3, p= 0.6,\n",
    "- redK=0.35,p=0.6, orangek=0.25, p=0.3 (try this first)"
   ]
  },
  {
   "cell_type": "markdown",
   "metadata": {},
   "source": [
    "# Generate WS graph node feature"
   ]
  },
  {
   "cell_type": "markdown",
   "metadata": {},
   "source": [
    "# construct node clustring coefficient label"
   ]
  },
  {
   "cell_type": "markdown",
   "metadata": {},
   "source": [
    "# Generate WS graph dataloader"
   ]
  },
  {
   "cell_type": "markdown",
   "metadata": {},
   "source": [
    "# CCA (Canical Component Analysis)"
   ]
  },
  {
   "cell_type": "markdown",
   "metadata": {},
   "source": [
    "# Check whether GNN can learn the CC ?"
   ]
  },
  {
   "cell_type": "markdown",
   "metadata": {},
   "source": [
    "# generate CC historgram with same degree\n",
    "# cc without degree correlation bias\n",
    "\n"
   ]
  },
  {
   "cell_type": "markdown",
   "metadata": {},
   "source": [
    "# load OGB dataset:"
   ]
  },
  {
   "cell_type": "code",
   "execution_count": null,
   "metadata": {},
   "outputs": [],
   "source": [
    "from matplotlib import ticker\n",
    "import numpy as np\n",
    "from matplotlib.pyplot import MultipleLocator\n",
    "\n",
    "\n",
    "x_y_label_font = 10\n",
    "x_y_legend_font = 10\n",
    "\n",
    "\n",
    "def plot_bars(X, y, y_err=None, legend_pos=None, label=\"None\", ax=None, colors=None, width=0.1):\n",
    "    \n",
    "\n",
    "    color = 'black'\n",
    "    err_attr={\"elinewidth\":2,\"ecolor\":\"black\",\"capsize\":6}\n",
    "    if colors is None:\n",
    "         colors = ['#F9DA4A','#96DB35', '#66C2A5','#81B0D3','#EF8C61']\n",
    "         \n",
    "    # ax.bar(X, y, yerr=y_err, error_kw=err_attr, color = colors,\n",
    "    #         width=width, label=label)\n",
    "    ax.bar(X, y, color = colors,\n",
    "             width=width, tick_label=label)\n",
    "    \n",
    "    ax.set_ylabel('Correlation', color=color, fontsize=x_y_label_font)\n",
    "    \n",
    "     # fontsize=15, fontweight='bold')\n",
    "    ax.tick_params(axis='y', labelcolor=color, labelsize=x_y_label_font) \n",
    "    ax.tick_params(axis='x', rotation=70, labelsize=x_y_label_font)\n",
    "    # plt.xticks(rotation=180)\n",
    "    \n",
    "    # ax.tick_params(axis='x)\n",
    "    # ax.legend([logit.m1], prop={'size': 15}, labelspacing=0.1)\n",
    "#     ax.set_title(label, fontsize=x_y_label_font)\n",
    "    # plt.rcParams['xtick.direction'] = 'in'\n",
    "\n"
   ]
  },
  {
   "cell_type": "code",
   "execution_count": null,
   "metadata": {},
   "outputs": [],
   "source": [
    "import utils\n",
    "importlib.reload(utils)\n",
    "\n",
    "import networkx as nx\n",
    "from functools import reduce\n",
    "import models\n",
    "importlib.reload(models)\n",
    "\n",
    "\n",
    "def graphs_statistics(adjs:list, labels:list):\n",
    "    \n",
    "    statistics = []\n",
    "    for i, A in enumerate(adjs):\n",
    "        nx_g = nx.from_numpy_array(A)\n",
    "        avg_cc = nx.average_clustering(nx_g)\n",
    "        avg_degree = np.mean(node_feature_utils.node_degree_feature(adj=A)).item()\n",
    "        tris = np.mean(node_feature_utils.node_tri_cycles_feature(adj=A)).item()\n",
    "        cycles = nx.cycle_basis(nx_g)\n",
    "        statistics.append((avg_cc, avg_degree, tris, cycles, labels[i]))\n",
    "    \n",
    "    return statistics\n",
    "\n",
    "\n",
    "\n",
    "def plot_cyc_degree_corr(title:str, statistics_sorted:list, data_labels:tuple, axe=None, \n",
    "                           sort_idx=None, show_idx:list=None, anchor:int=None):\n",
    "    \n",
    "    # NOTE: Sorted by other index\n",
    "    if sort_idx is not None:\n",
    "        statistics_sorted = sorted(statistics_sorted, key=lambda x: x[sort_idx])\n",
    "        \n",
    "    # TODO: Filter cycles and degree outliers, abs(z-score) > 3.\n",
    "    statistics_sorted_filtered = []\n",
    "    for i in statistics_sorted:\n",
    "        \n",
    "        # NOTE: filter any outliers:\n",
    "        need_filter = False\n",
    "        for l in range(len(i)):\n",
    "            if i[l] < -3 or i[l] > 3 or i[l] < -3 or i[l] > 3:\n",
    "                need_filter = True\n",
    "                break\n",
    "            \n",
    "        if need_filter:\n",
    "            continue\n",
    "        \n",
    "        statistics_sorted_filtered.append(i)\n",
    "    \n",
    "    statistics_sorted = statistics_sorted_filtered\n",
    "    # TODO: Get correlation:\n",
    "    corrs = utils.get_corrs(statistics_sorted, cate='all')\n",
    "\n",
    "    axe.set_title(title)\n",
    "    \n",
    "    if show_idx is None:\n",
    "        show_idx = list(range(len(statistics_sorted[0])))\n",
    "        \n",
    "    X = np.linspace(0, 1, len(show_idx))\n",
    "    y = np.array([np.abs(corrs['pearson'][id, anchor]) for id in show_idx])\n",
    "    color = MyColor('Accent', skip_idx=3, backup_name='Set1', backup_color=7)\n",
    "    colors = [color.get_color() for _ in show_idx]\n",
    "    legends = [data_labels[i] for i in show_idx]\n",
    "    plot_bars(X, y,label=legends, ax=axe, colors=colors)\n",
    "    \n",
    "    \n",
    "    \n",
    "def plot_graphs_statistics(title:str, statistics_sorted:list, data_labels:tuple, axe=None, \n",
    "                           sort_idx=None, show_idx:list=None):\n",
    "    \n",
    "    # NOTE: Sorted by other index\n",
    "    if sort_idx is not None:\n",
    "        statistics_sorted = sorted(statistics_sorted, key=lambda x: x[sort_idx])\n",
    "        \n",
    "    # TODO: Filter cycles and degree outliers, abs(z-score) > 3.\n",
    "    statistics_sorted_filtered = []\n",
    "    for i in statistics_sorted:\n",
    "        # NOTE: filter any outliers:\n",
    "        need_filter = False\n",
    "        for l in range(len(i)):\n",
    "            if i[l] < -3 or i[l] > 3 or i[l] < -3 or i[l] > 3:\n",
    "                need_filter = True\n",
    "                break\n",
    "        if need_filter:\n",
    "            continue\n",
    "        \n",
    "        statistics_sorted_filtered.append(i)\n",
    "    \n",
    "    statistics_sorted = statistics_sorted_filtered\n",
    "    # TODO: Get correlation:\n",
    "    corrs = utils.get_corrs(statistics_sorted, cate='all')\n",
    "    if axe is not None:\n",
    "        MIC_corr = f\"M(dc)={round(corrs['MIC'][1, -2], 2)}, M(dy)={round(corrs['MIC'][1, -1], 2)},\" \\\n",
    "                     + f\" M(cy)={round(corrs['MIC'][-2, -1], 2)}\"\n",
    "        axe.set_title(title+f\"\\n C(dc)={round(corrs['pearson'][1, -2], 2)}, C(dy)={round(corrs['pearson'][1, -1], 2)},\" \\\n",
    "                     + f\" C(cy)={round(corrs['pearson'][-2, -1], 2)}\\n{MIC_corr}\")\n",
    "        # NOTE: C: correlation, d:degree, c: cycles, y:labels of samples.\n",
    "        \n",
    "        \n",
    "        colors = MyColor()\n",
    "        \n",
    "        from matplotlib import lines\n",
    "        \n",
    "        line_styles = list(lines.lineStyles.keys())\n",
    "        def get_style(next_id):\n",
    "            return line_styles[next_id%len(line_styles)]\n",
    "        \n",
    "        if show_idx is None:\n",
    "            show_idx = list(range(len(statistics_sorted[0])))\n",
    "            \n",
    "        for sid in show_idx:\n",
    "            # TODO: color?\n",
    "            axe.plot([i[sid] for i in statistics_sorted], label=data_labels[sid], \n",
    "                     linestyle=get_style(sid), color=colors.get_color())\n",
    "            \n",
    "    else:\n",
    "        plt.figure()\n",
    "        plt.title(title)\n",
    "        plt.plot([i[0] for i in statistics_sorted], label='avg_cc')\n",
    "        plt.plot([i[1] for i in statistics_sorted], label='avg_degree',  linestyle='--')\n",
    "        plt.plot([i[2] for i in statistics_sorted], label='tri_cycles', linestyle='-.')\n",
    "        plt.plot([i[3] for i in statistics_sorted], label='num_cyclesK=5', linestyle='-.')\n",
    "        \n",
    "        plt.legend()\n",
    "        plt.show()\n",
    "\n",
    "\n",
    "def plot_cc_degree_distribution(cc_degree_graphs, cc_degree_y, g_label='train'):\n",
    "    \n",
    "    # random add edges:\n",
    "    # add E edges, repeat for 5 times.\n",
    "    print(type(cc_degree_graphs[0].todense()))\n",
    "\n",
    "    data_graphs = [(cc_degree_y[i],np.mean(np.sum(cc_degree_graphs[i].todense(), axis=1)), np.mean(node_feature_utils.node_tri_cycles_feature(adj=cc_degree_graphs[i])).item(), i) for i in range(len(cc_degree_graphs))]\n",
    "\n",
    "    data_graphs_s_train = sorted(data_graphs, key=lambda x: x[0])\n",
    "\n",
    "    ccs = [d[0] for d in data_graphs_s_train]\n",
    "    degrees = [d[1]/10 for d in data_graphs_s_train]\n",
    "    tri_cycles = [d[2]/4 for d in data_graphs_s_train]\n",
    "\n",
    "    plt.figure()\n",
    "    plt.title(g_label)\n",
    "    plt.plot(ccs, label='labels')\n",
    "    plt.plot(degrees, label='degree',  linestyle='--')\n",
    "    plt.plot(tri_cycles, label='tri_cycles', linestyle='-.')\n",
    "    plt.legend()\n",
    "    plt.show()\n",
    "    \n",
    "    "
   ]
  },
  {
   "cell_type": "markdown",
   "metadata": {},
   "source": [
    "# Try Real-world dataset from PyG generic datasets\n",
    "website: `https://pytorch-geometric.readthedocs.io/en/latest/notes/data_cheatsheet.html`\n",
    "\n",
    "* graph classification:\n",
    "    * TUDataset\n",
    "    * ZINC\n",
    "\n",
    "## TODO: \n",
    "1. use. # due: 6.30.\n",
    "2. profile. # due: 7.1.\n",
    "\n",
    "## TODO (2022.09.24):\n",
    "* 1. load from gnn-comparison module.\n",
    "* 2. check the avg.CC avg.Degree and performance associations."
   ]
  },
  {
   "cell_type": "code",
   "execution_count": null,
   "metadata": {},
   "outputs": [],
   "source": [
    "from gnn_comparison.PrepareDatasets import DATASETS\n",
    "\n",
    "print(DATASETS.keys())\n",
    "\n",
    "datasets_obj = {}\n",
    "for k, v in DATASETS.items():\n",
    "    print('dataset name:', k)\n",
    "    dat = v()\n",
    "    datasets_obj[k] = dat\n",
    "    print(type(dat.dataset.get_data()))\n"
   ]
  },
  {
   "cell_type": "code",
   "execution_count": null,
   "metadata": {},
   "outputs": [],
   "source": [
    "import gnn_comparison\n",
    "importlib.reload(gnn_comparison)\n",
    "import gnn_comparison.PrepareDatasets as predata\n",
    "importlib.reload(predata)\n",
    "\n",
    "def add_obj(name):\n",
    "    cls = predata.DATASETS[name]\n",
    "    dat = cls()\n",
    "    datasets_obj[name] = dat\n",
    "    \n",
    "# add_obj('COLLAB')\n",
    "# add_obj('NCI1')\n"
   ]
  },
  {
   "cell_type": "code",
   "execution_count": null,
   "metadata": {},
   "outputs": [],
   "source": [
    "\n",
    "def get_pyg_dataset_stats(pyg_data):\n",
    "    adjs = []\n",
    "    # TODO: transform into networkx.\n",
    "    labels = []\n",
    "    for graph in pyg_data.dataset.get_data():\n",
    "        row = graph.edge_index[0]\n",
    "        col = graph.edge_index[1]\n",
    "        graph.y\n",
    "        N = graph.x.shape[0]\n",
    "        dense_A = torch.zeros((N, N))\n",
    "        dense_A[row, col] = 1\n",
    "        A = dense_A.detach().numpy()\n",
    "        adjs.append(A)\n",
    "        labels.append(graph.y.item())\n",
    "    return graphs_statistics(adjs, labels)\n",
    "\n",
    "\n",
    "# print(node_feature_utils.node_cc_avg_feature(adj=dense_A.detach().numpy()))"
   ]
  },
  {
   "cell_type": "code",
   "execution_count": null,
   "metadata": {},
   "outputs": [],
   "source": [
    "# TODO: plot on one figure:\n",
    "datasets_stats = {}\n",
    "for k, v in datasets_obj.items():\n",
    "    datasets_stats[k] = get_pyg_dataset_stats(v)"
   ]
  },
  {
   "cell_type": "code",
   "execution_count": null,
   "metadata": {},
   "outputs": [],
   "source": [
    "importlib.reload(utils)\n",
    "import pandas as pd\n",
    "\n",
    "data_stats = {}\n",
    "K = 11\n",
    "tuple_label = ['avg_cc', 'avg_degree', 'tris']\n",
    "[tuple_label.append(f'cyc<={k}') for k in range(4, K)]\n",
    "tuple_label.append('y_label')\n",
    "\n",
    "\n",
    "print('tuple_label:', tuple_label)\n",
    "\n",
    "normed_stats = {}\n",
    "for name, st in datasets_stats.items():\n",
    "    print(f'dataset {name}, len: {len(st)}')    \n",
    "    stats_tuples = []\n",
    "    \n",
    "    for i in range(len(st)):\n",
    "        cc = st[i][0]\n",
    "        degree = st[i][1]\n",
    "        tris= st[i][2]\n",
    "        y = st[i][-1]\n",
    "        cycles = st[i][-2]\n",
    "        \n",
    "        counter_cur = defaultdict(int)\n",
    "        for c in cycles:\n",
    "            if len(c) < K:\n",
    "                counter_cur[len(c)] += 1\n",
    "        cycle_num = [0]\n",
    "        for k in range(3, K):\n",
    "            if k in counter_cur:\n",
    "                cycle_num.append(cycle_num[k-3]+counter_cur[k])\n",
    "            else:\n",
    "                cycle_num.append(cycle_num[k-3])\n",
    "                \n",
    "        cycle_num.pop(0)\n",
    "        cycle_num = tuple(cycle_num)\n",
    "        \n",
    "        stats_tuples.append((cc, degree, tris, *cycle_num, y))\n",
    "    \n",
    "    data_array = pd.DataFrame(stats_tuples).values\n",
    "    # TODO: normalize:\n",
    "    data_array = utils.normalize(data_array, along_axis=-1)\n",
    "    \n",
    "    normed_stats[name] = data_array\n",
    "    "
   ]
  },
  {
   "cell_type": "code",
   "execution_count": null,
   "metadata": {},
   "outputs": [],
   "source": [
    "def plot_stats(cur_data_stats:dict, show_idx=None):\n",
    "    total = len(cur_data_stats.keys())\n",
    "    nrows = int(total/3) + (0 if total%3 == 0 else 1)\n",
    "    print('nrows:', nrows, 'total', total)\n",
    "    \n",
    "    fig, axes = plt.subplots(nrows, 3, figsize=(10, 8), dpi=300)\n",
    "    for idx, (name, normed_stat) in enumerate(cur_data_stats.items()):\n",
    "        plot_graphs_statistics(name, normed_stat, tuple_label, axe=axes[int(idx/3)][idx%3],\n",
    "                               sort_idx=1, show_idx=show_idx)\n",
    "    \n",
    "    if total%3 > 0:\n",
    "        for d in range(3-total%3):\n",
    "            fig.delaxes(axes[-1][-d-1])\n",
    "            \n",
    "    \n",
    "    handlers, labels = axes[0][0].get_legend_handles_labels()\n",
    "    \n",
    "    fig.legend(handlers, labels, loc='lower center', prop={'size':10})\n",
    "    plt.tight_layout()\n",
    "    plt.show()"
   ]
  },
  {
   "cell_type": "code",
   "execution_count": null,
   "metadata": {},
   "outputs": [],
   "source": [
    "importlib.reload(utils)\n",
    "\n",
    "\n",
    "plot_stats(normed_stats, show_idx=[1, 3, 9])"
   ]
  },
  {
   "cell_type": "code",
   "execution_count": null,
   "metadata": {},
   "outputs": [],
   "source": [
    "# TODO: correlation of each amount of cycle and degree and label.\n",
    "\n",
    "def plot_corr_stats(cur_data_stats:dict, show_idx=None, anchor=-1):\n",
    "    total = len(cur_data_stats.keys())\n",
    "    nrows = int(total/3) + (0 if total%3 == 0 else 1)\n",
    "    print('nrows:', nrows, 'total', total)\n",
    "    \n",
    "    fig, axes = plt.subplots(nrows, 3, figsize=(10, 8), dpi=300)\n",
    "    for idx, (name, normed_stat) in enumerate(cur_data_stats.items()):\n",
    "        plot_cyc_degree_corr(name, normed_stat, tuple_label, axe=axes[int(idx/3)][idx%3],\n",
    "                               sort_idx=1, show_idx=show_idx, anchor=anchor)\n",
    "    \n",
    "    if total%3 > 0:\n",
    "        for d in range(3-total%3):\n",
    "            fig.delaxes(axes[-1][-d-1])\n",
    "            \n",
    "    \n",
    "    handlers, labels = axes[0][0].get_legend_handles_labels()\n",
    "    \n",
    "    fig.legend(handlers, labels, loc='lower center', prop={'size':10})\n",
    "    \n",
    "    \n",
    "    plt.tight_layout()\n",
    "    plt.show()\n",
    "    \n",
    "\n"
   ]
  },
  {
   "cell_type": "code",
   "execution_count": null,
   "metadata": {},
   "outputs": [],
   "source": [
    "importlib.reload(utils)\n",
    "\n",
    "plot_corr_stats(normed_stats, show_idx=[1, 3, 4,5,6,7,8, 9], anchor=-1)"
   ]
  },
  {
   "cell_type": "code",
   "execution_count": null,
   "metadata": {},
   "outputs": [],
   "source": [
    "importlib.reload(utils)\n",
    "\n",
    "plot_corr_stats(normed_stats, show_idx=[3, 4,5,6,7,8, 9], anchor=1)"
   ]
  },
  {
   "cell_type": "code",
   "execution_count": null,
   "metadata": {},
   "outputs": [],
   "source": [
    "x = range(7)\n",
    "negative_data = [-1,0,-3,0,-6,-2,-8]\n",
    "positive_data = [4,2,3,1,4,6,7,]\n",
    "\n",
    "fig = plt.figure()\n",
    "ax = plt.subplot(111)\n",
    "ax.bar(x, negative_data, width=1, color='r')\n",
    "ax.bar(x, positive_data, width=1, color='b')"
   ]
  },
  {
   "cell_type": "markdown",
   "metadata": {},
   "source": [
    "# plot train val loss, 2022.10.09"
   ]
  },
  {
   "cell_type": "code",
   "execution_count": 14,
   "metadata": {},
   "outputs": [
    {
     "name": "stdout",
     "output_type": "stream",
     "text": [
      "['pre_results', 'GraphSAGE_IMDB-BINARY_assessment', 'GraphSAGE_REDDIT-BINARY_assessment', 'GraphSAGE_COLLAB_assessment']\n"
     ]
    },
    {
     "ename": "FileNotFoundError",
     "evalue": "[Errno 2] No such file or directory: './result_1009/GraphSAGE_IMDB-BINARY_assessment/10_NESTED_CV/experiment.log'",
     "output_type": "error",
     "traceback": [
      "\u001b[0;31m---------------------------------------------------------------------------\u001b[0m",
      "\u001b[0;31mFileNotFoundError\u001b[0m                         Traceback (most recent call last)",
      "\u001b[0;32m<ipython-input-14-8c8b8be6d9c6>\u001b[0m in \u001b[0;36m<module>\u001b[0;34m\u001b[0m\n\u001b[1;32m     14\u001b[0m             \u001b[0;32mfor\u001b[0m \u001b[0mconf_dir\u001b[0m \u001b[0;32min\u001b[0m \u001b[0msub_dirs\u001b[0m\u001b[0;34m:\u001b[0m\u001b[0;34m\u001b[0m\u001b[0;34m\u001b[0m\u001b[0m\n\u001b[1;32m     15\u001b[0m \u001b[0;34m\u001b[0m\u001b[0m\n\u001b[0;32m---> 16\u001b[0;31m                 \u001b[0;32mwith\u001b[0m \u001b[0mopen\u001b[0m\u001b[0;34m(\u001b[0m\u001b[0mos\u001b[0m\u001b[0;34m.\u001b[0m\u001b[0mpath\u001b[0m\u001b[0;34m.\u001b[0m\u001b[0mjoin\u001b[0m\u001b[0;34m(\u001b[0m\u001b[0msub_root\u001b[0m\u001b[0;34m,\u001b[0m \u001b[0mconf_dir\u001b[0m\u001b[0;34m,\u001b[0m \u001b[0;34m'experiment.log'\u001b[0m\u001b[0;34m)\u001b[0m\u001b[0;34m,\u001b[0m \u001b[0;34m'r'\u001b[0m\u001b[0;34m)\u001b[0m \u001b[0;32mas\u001b[0m \u001b[0mf\u001b[0m\u001b[0;34m:\u001b[0m\u001b[0;34m\u001b[0m\u001b[0;34m\u001b[0m\u001b[0m\n\u001b[0m\u001b[1;32m     17\u001b[0m                     \u001b[0;32mfor\u001b[0m \u001b[0mline\u001b[0m \u001b[0;32min\u001b[0m \u001b[0mf\u001b[0m\u001b[0;34m.\u001b[0m\u001b[0mreadlines\u001b[0m\u001b[0;34m(\u001b[0m\u001b[0;34m)\u001b[0m\u001b[0;34m:\u001b[0m\u001b[0;34m\u001b[0m\u001b[0;34m\u001b[0m\u001b[0m\n\u001b[1;32m     18\u001b[0m                         \u001b[0;32mif\u001b[0m \u001b[0;34m'TR loss'\u001b[0m \u001b[0;32mnot\u001b[0m \u001b[0;32min\u001b[0m \u001b[0mline\u001b[0m\u001b[0;34m:\u001b[0m\u001b[0;34m\u001b[0m\u001b[0;34m\u001b[0m\u001b[0m\n",
      "\u001b[0;31mFileNotFoundError\u001b[0m: [Errno 2] No such file or directory: './result_1009/GraphSAGE_IMDB-BINARY_assessment/10_NESTED_CV/experiment.log'"
     ]
    }
   ],
   "source": [
    "# TODO: load files.\n",
    "import os\n",
    "\n",
    "\n",
    "res_dir = './result_1009'\n",
    "for root, dirs, files in os.walk(res_dir, topdown=True):\n",
    "    print(dirs)\n",
    "    for d in dirs:\n",
    "        if 'pre' in d:\n",
    "            continue\n",
    "        sub_res_dir = os.path.join(root, d)\n",
    "        for sub_root, sub_dirs, _ in os.walk(sub_res_dir,topdown=True):\n",
    "            for conf_dir in sub_dirs:\n",
    "                for \n",
    "                with open(os.path.join(sub_root, conf_dir, 'experiment.log'), 'r') as f:\n",
    "                    for line in f.readlines():\n",
    "                        if 'TR loss' not in line:\n",
    "                            continue\n",
    "                        print(len(line.split()), line.split())\n",
    "                        \n",
    "            break\n",
    "            \n",
    "    break"
   ]
  },
  {
   "cell_type": "code",
   "execution_count": null,
   "metadata": {},
   "outputs": [],
   "source": []
  }
 ],
 "metadata": {
  "kernelspec": {
   "display_name": "Python 3.6.8 64-bit",
   "language": "python",
   "name": "python3"
  },
  "language_info": {
   "codemirror_mode": {
    "name": "ipython",
    "version": 3
   },
   "file_extension": ".py",
   "mimetype": "text/x-python",
   "name": "python",
   "nbconvert_exporter": "python",
   "pygments_lexer": "ipython3",
   "version": "3.6.8"
  },
  "vscode": {
   "interpreter": {
    "hash": "767d51c1340bd893661ea55ea3124f6de3c7a262a8b4abca0554b478b1e2ff90"
   }
  }
 },
 "nbformat": 4,
 "nbformat_minor": 4
}
