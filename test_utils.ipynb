{
 "cells": [
  {
   "cell_type": "code",
   "execution_count": 7,
   "metadata": {},
   "outputs": [
    {
     "data": {
      "text/plain": [
       "<module 'my_utils' from '/li_zhengdao/github/GenerativeGNN/my_utils.py'>"
      ]
     },
     "execution_count": 7,
     "metadata": {},
     "output_type": "execute_result"
    }
   ],
   "source": [
    "import importlib\n",
    "import random\n",
    "import argparse\n",
    "import configparser\n",
    "import numpy as np\n",
    "import networkx as nx\n",
    "from collections import defaultdict\n",
    "\n",
    "import torch\n",
    "import torch.nn as nn\n",
    "import torch.nn.functional as F\n",
    "import torch_sparse\n",
    "from torch import Tensor\n",
    "from torch.nn import Linear\n",
    "from torch.utils.data import DataLoader\n",
    "from torch.utils.data import TensorDataset\n",
    "import torch.optim as optim\n",
    "\n",
    "from torch_geometric.utils import negative_sampling, to_networkx\n",
    "from typing import Union, Tuple\n",
    "from torch_geometric.typing import OptPairTensor, Adj, OptTensor, Size\n",
    "from torch_sparse import SparseTensor, matmul\n",
    "from torch_geometric.nn.conv import MessagePassing\n",
    "\n",
    "from ogb.linkproppred import PygLinkPropPredDataset, Evaluator\n",
    "\n",
    "\n",
    "import networkx as nx\n",
    "import seaborn as sns\n",
    "from matplotlib.colors import ListedColormap\n",
    "import matplotlib.pyplot as plt\n",
    "\n",
    "import scipy\n",
    "import math\n",
    "\n",
    "\n",
    "from dataset_utils import node_feature_utils\n",
    "from dataset_utils.node_feature_utils import *\n",
    "import my_utils as utils\n",
    "\n",
    "importlib.reload(utils)"
   ]
  },
  {
   "cell_type": "code",
   "execution_count": 9,
   "metadata": {},
   "outputs": [
    {
     "name": "stdout",
     "output_type": "stream",
     "text": [
      "True\n"
     ]
    }
   ],
   "source": [
    "parser = argparse.ArgumentParser()\n",
    "parser.add_argument(\"--class_cond\", action=\"store_true\", default=True)\n",
    "args = parser.parse_args({})\n",
    "print(args.class_cond)\n"
   ]
  },
  {
   "attachments": {},
   "cell_type": "markdown",
   "metadata": {},
   "source": [
    "# Test list extend()"
   ]
  },
  {
   "cell_type": "code",
   "execution_count": null,
   "metadata": {},
   "outputs": [],
   "source": [
    "import numpy as np\n",
    "import pandas as pd\n",
    "import matplotlib.pyplot as plt\n",
    "\n",
    "t = np.linspace(0, 1.5*np.pi, 2500)\n",
    "y = np.sin(t**2)+np.random.random(2500)*.6\n",
    "print(y.shape)\n",
    "fig, axes = plt.subplots(1, 1, figsize=(10, 12), dpi=150)\n",
    "\n",
    "df = pd.DataFrame(y)\n",
    "# plt.plot(df[0], 'lightblue', df[0].rolling(10).mean(), 'b')\n",
    "# plt.plot(df[0])\n",
    "# plt.show()\n",
    "axes.plot(df[0],'lightblue', df[0].rolling(20).mean(), 'r')\n",
    "# plt.plot(df[0],'lightblue', df[0].rolling(2).mean(), 'r')\n",
    "# plt.show()\n",
    "# plt.plot(df[0],'lightblue', df[0].rolling(5).mean(), 'r')\n",
    "# plt.show()\n",
    "# plt.plot(df[0],'lightblue', df[0].rolling(10).mean(), 'r')\n",
    "# plt.show()\n",
    "# plt.plot(df[0],'lightblue', df[0].rolling(20).mean(), 'r')\n",
    "plt.show()"
   ]
  },
  {
   "cell_type": "code",
   "execution_count": null,
   "metadata": {},
   "outputs": [],
   "source": [
    "def downsampling(s:np.ndarray, sample_len=64):\n",
    "    s_len = s.shape[0]\n",
    "    if s_len <= sample_len:\n",
    "        downsampled = np.pad(s, pad_width=(0, sample_len-s_len), mode='minimum')\n",
    "        return np.arange(sample_len), downsampled\n",
    "    \n",
    "    indice = np.linspace(0, s_len-1, sample_len)\n",
    "    int_idc = [int(i) for i in indice]\n",
    "    downsampled = np.array([s[i] for i in int_idc])\n",
    "    \n",
    "    return int_idc, downsampled\n",
    "\n",
    "x = np.arange(100)/10\n",
    "sig = x**2 + 0.05*x**1.5\n",
    "\n",
    "plt.figure()\n",
    "plt.plot(sig)\n",
    "int_idc, downsampled = downsampling(sig, sample_len=111)\n",
    "plt.scatter(int_idc, downsampled, c='r', s=10)\n",
    "plt.show()"
   ]
  },
  {
   "cell_type": "code",
   "execution_count": null,
   "metadata": {},
   "outputs": [],
   "source": [
    "# plot log(x) <= x/a + log(a) - 1 \n",
    "\n",
    "plt.figure()\n",
    "x = np.linspace(0.1, 1, 20)\n",
    "y = np.log(x)\n",
    "a = list(np.linspace(0.2, 1, 5))\n",
    "plt.plot(x, y, label='log x')\n",
    "for aa in a:\n",
    "    ya = x/aa + np.log(aa) - 1\n",
    "    plt.plot(x, ya, label=f'a={aa}')\n",
    "plt.legend()\n",
    "plt.show()\n"
   ]
  },
  {
   "cell_type": "code",
   "execution_count": null,
   "metadata": {},
   "outputs": [],
   "source": [
    "# Conjuagate function:\n",
    "\n",
    "x = np.linspace(0.01, 2, 20)\n",
    "fx = x * np.log(x)\n",
    "\n",
    "y = np.linspace(0.01, 2, 10)\n",
    "\n",
    "\n",
    "plt.figure()\n",
    "plt.plot(x, fx)\n",
    "for yy in y:\n",
    "    yx = x*yy - fx\n",
    "    plt.plot(x, yx)\n",
    "# plt.show()\n",
    "\n",
    "# plot y:\n",
    "yy = np.linspace(0.01, 2, 20)\n",
    "\n",
    "ys = []\n",
    "for y in yy:\n",
    "    ys.append(np.max(x*y - fx))\n",
    "plt.plot(yy, ys)\n",
    "plt.show()"
   ]
  },
  {
   "attachments": {},
   "cell_type": "markdown",
   "metadata": {},
   "source": [
    "# test A^2"
   ]
  },
  {
   "cell_type": "code",
   "execution_count": null,
   "metadata": {},
   "outputs": [],
   "source": [
    "def norm_to_one(m):\n",
    "    m[m>0]=1\n",
    "    return m\n",
    "\n",
    "def str2np(s):\n",
    "    rows = s.split(',')\n",
    "    \n",
    "    row_len = len(rows)\n",
    "    col_len = len(rows[0])\n",
    "    \n",
    "    res = np.ones(shape=(row_len, col_len))\n",
    "    \n",
    "    for i, r in enumerate(rows):\n",
    "        for j, c in enumerate(r):\n",
    "            res[i, j] = int(c)\n",
    "    return res\n",
    "\n",
    "def draw_g(adj):\n",
    "    g = nx.from_numpy_array(adj)\n",
    "    # pos = nx.nx_pydot.graphviz_layout(g1)\n",
    "    nx.draw_circular(g, with_labels=True)\n",
    "\n",
    "a = \"0101,1010,0101,1010\"\n",
    "\n",
    "a = str2np(a)\n",
    "I = np.eye(4)\n",
    "\n",
    "aa = a + I\n",
    "\n",
    "draw_g(a)"
   ]
  },
  {
   "cell_type": "code",
   "execution_count": null,
   "metadata": {},
   "outputs": [],
   "source": [
    "g = nx.cycle_graph(3)\n",
    "g1 = nx.Graph()\n",
    "\n",
    "nx.set_node_attributes(g, [1,2,4], 'labels')\n",
    "\n",
    "print(type(g), g.nodes[1]['labels'])\n",
    "g.__class__()\n",
    "print('2:', type(g), g.nodes[1]['labels'])\n"
   ]
  },
  {
   "cell_type": "code",
   "execution_count": null,
   "metadata": {},
   "outputs": [],
   "source": [
    "a2 = a @ a\n",
    "print('a:', a)\n",
    "print('a*a2:', a*a2)"
   ]
  },
  {
   "cell_type": "code",
   "execution_count": null,
   "metadata": {},
   "outputs": [],
   "source": [
    "a3 = a2_adj @ a\n",
    "\n",
    "print(a3)"
   ]
  },
  {
   "cell_type": "code",
   "execution_count": null,
   "metadata": {},
   "outputs": [],
   "source": [
    "\n",
    "a = \"0110,1010,1100,0000\"\n",
    "\n",
    "a = str2np(a)\n",
    "draw_g(a)\n",
    "I = np.eye(4)\n",
    "aa = a + I\n",
    "\n",
    "D = np.diag(np.sum(a, axis=1))\n",
    "\n",
    "print('D:', D)\n",
    "a2 = a @ a\n",
    "aa2 = aa @ aa\n",
    "\n",
    "\n",
    "a2 = a @ a\n",
    "print('a:', a)\n",
    "print('aa:',aa)\n",
    "print('a*a2:', a*a2)"
   ]
  },
  {
   "cell_type": "code",
   "execution_count": null,
   "metadata": {},
   "outputs": [],
   "source": [
    "\n",
    "a = \"0110,1000,1000,0000\"\n",
    "\n",
    "a = str2np(a)\n",
    "draw_g(a)\n",
    "I = np.eye(4)\n",
    "aa = a + I\n",
    "\n",
    "a2 = a @ a\n",
    "a2_norm = norm_to_one(a2) - I\n",
    "\n",
    "a2_adj = a2_norm + a\n",
    "print(a2_adj)\n",
    "\n",
    "a3 = a2_adj @ a\n",
    "\n",
    "print(a3)"
   ]
  },
  {
   "attachments": {},
   "cell_type": "markdown",
   "metadata": {},
   "source": [
    "# $Cycle Count = A \\odot A^2 - A$"
   ]
  },
  {
   "cell_type": "code",
   "execution_count": null,
   "metadata": {},
   "outputs": [],
   "source": [
    "cyc = a * a2 - a\n",
    "print(cyc)"
   ]
  },
  {
   "cell_type": "code",
   "execution_count": 5,
   "metadata": {},
   "outputs": [],
   "source": [
    "class SmilesDataset:\n",
    "    def __init__(self, dataset, smiles) -> None:\n",
    "        self.dataset = dataset\n",
    "        self.smiles = smiles\n",
    "\n",
    "    def __getitem__(self, idx):\n",
    "        return self.dataset[idx]\n",
    "    \n",
    "    def __len__(self):\n",
    "        return len(self.dataset)"
   ]
  },
  {
   "cell_type": "code",
   "execution_count": 6,
   "metadata": {},
   "outputs": [],
   "source": [
    "from torch_geometric.datasets import QM9, MoleculeNet\n",
    "\n",
    "a = MoleculeNet('DATA', name='hiv')\n",
    "\n",
    "smiles = [i.smiles for i in a]\n",
    "sd = SmilesDataset(a, smiles=smiles)"
   ]
  },
  {
   "cell_type": "code",
   "execution_count": 7,
   "metadata": {},
   "outputs": [
    {
     "name": "stdout",
     "output_type": "stream",
     "text": [
      "41127\n",
      "CCC1=[O+][Cu-3]2([O+]=C(CC)C1)[O+]=C(CC)CC(CC)=[O+]2\n",
      "Data(edge_attr=[40, 3], edge_index=[2, 40], smiles=\"CCC1=[O+][Cu-3]2([O+]=C(CC)C1)[O+]=C(CC)CC(CC)=[O+]2\", x=[19, 9], y=[1, 1])\n"
     ]
    }
   ],
   "source": []
  },
  {
   "cell_type": "code",
   "execution_count": null,
   "metadata": {},
   "outputs": [],
   "source": []
  }
 ],
 "metadata": {
  "kernelspec": {
   "display_name": "Python 3",
   "language": "python",
   "name": "python3"
  },
  "language_info": {
   "codemirror_mode": {
    "name": "ipython",
    "version": 3
   },
   "file_extension": ".py",
   "mimetype": "text/x-python",
   "name": "python",
   "nbconvert_exporter": "python",
   "pygments_lexer": "ipython3",
   "version": "3.6.8"
  },
  "orig_nbformat": 4,
  "vscode": {
   "interpreter": {
    "hash": "767d51c1340bd893661ea55ea3124f6de3c7a262a8b4abca0554b478b1e2ff90"
   }
  }
 },
 "nbformat": 4,
 "nbformat_minor": 2
}
