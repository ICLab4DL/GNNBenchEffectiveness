{
 "cells": [
  {
   "cell_type": "code",
   "execution_count": null,
   "metadata": {},
   "outputs": [],
   "source": [
    "import importlib\n",
    "import random\n",
    "import argparse\n",
    "import configparser\n",
    "import numpy as np\n",
    "import networkx as nx\n",
    "from collections import defaultdict\n",
    "\n",
    "import torch\n",
    "import torch.nn as nn\n",
    "import torch.nn.functional as F\n",
    "import torch_sparse\n",
    "from torch import Tensor\n",
    "from torch.nn import Linear\n",
    "from torch.utils.data import DataLoader\n",
    "from torch.utils.data import TensorDataset\n",
    "import torch.optim as optim\n",
    "\n",
    "from torch_geometric.utils import negative_sampling, to_networkx\n",
    "from typing import Union, Tuple\n",
    "from torch_geometric.typing import OptPairTensor, Adj, OptTensor, Size\n",
    "from torch_sparse import SparseTensor, matmul\n",
    "from torch_geometric.nn.conv import MessagePassing\n",
    "\n",
    "from ogb.linkproppred import PygLinkPropPredDataset, Evaluator\n",
    "\n",
    "\n",
    "import networkx as nx\n",
    "import seaborn as sns\n",
    "from matplotlib.colors import ListedColormap\n",
    "import matplotlib.pyplot as plt\n",
    "\n",
    "import scipy\n",
    "import math\n",
    "\n",
    "\n",
    "from dataset_utils import node_feature_utils\n",
    "from dataset_utils.node_feature_utils import *\n",
    "import my_utils as utils\n",
    "\n",
    "importlib.reload(utils)"
   ]
  },
  {
   "cell_type": "code",
   "execution_count": null,
   "metadata": {},
   "outputs": [],
   "source": [
    "def downsampling(s:np.ndarray, sample_len=64):\n",
    "    s_len = s.shape[0]\n",
    "    if s_len <= sample_len:\n",
    "        downsampled = np.pad(s, pad_width=(0, sample_len-s_len), mode='minimum')\n",
    "        return np.arange(sample_len), downsampled\n",
    "    \n",
    "    indice = np.linspace(0, s_len-1, sample_len)\n",
    "    int_idc = [int(i) for i in indice]\n",
    "    downsampled = np.array([s[i] for i in int_idc])\n",
    "    \n",
    "    return int_idc, downsampled\n",
    "\n",
    "x = np.arange(100)/10\n",
    "sig = x**2 + 0.05*x**1.5\n",
    "\n",
    "plt.figure()\n",
    "plt.plot(sig)\n",
    "int_idc, downsampled = downsampling(sig, sample_len=111)\n",
    "plt.scatter(int_idc, downsampled, c='r', s=10)\n",
    "plt.show()"
   ]
  },
  {
   "cell_type": "code",
   "execution_count": null,
   "metadata": {},
   "outputs": [],
   "source": [
    "# plot log(x) <= x/a + log(a) - 1 \n",
    "\n",
    "plt.figure()\n",
    "x = np.linspace(0.1, 1, 20)\n",
    "y = np.log(x)\n",
    "a = list(np.linspace(0.2, 1, 5))\n",
    "plt.plot(x, y, label='log x')\n",
    "for aa in a:\n",
    "    ya = x/aa + np.log(aa) - 1\n",
    "    plt.plot(x, ya, label=f'a={aa}')\n",
    "plt.legend()\n",
    "plt.show()\n"
   ]
  },
  {
   "cell_type": "code",
   "execution_count": null,
   "metadata": {},
   "outputs": [],
   "source": [
    "# Conjuagate function:\n",
    "\n",
    "x = np.linspace(0.01, 2, 20)\n",
    "fx = x * np.log(x)\n",
    "\n",
    "y = np.linspace(0.01, 2, 10)\n",
    "\n",
    "\n",
    "plt.figure()\n",
    "plt.plot(x, fx)\n",
    "for yy in y:\n",
    "    yx = x*yy - fx\n",
    "    plt.plot(x, yx)\n",
    "# plt.show()\n",
    "\n",
    "# plot y:\n",
    "yy = np.linspace(0.01, 2, 20)\n",
    "\n",
    "ys = []\n",
    "for y in yy:\n",
    "    ys.append(np.max(x*y - fx))\n",
    "plt.plot(yy, ys)\n",
    "plt.show()\n",
    "\n",
    "\n",
    "\n"
   ]
  }
 ],
 "metadata": {
  "kernelspec": {
   "display_name": "Python 3",
   "language": "python",
   "name": "python3"
  },
  "language_info": {
   "name": "python",
   "version": "3.6.8 (default, Oct  7 2019, 12:59:55) \n[GCC 8.3.0]"
  },
  "orig_nbformat": 4,
  "vscode": {
   "interpreter": {
    "hash": "767d51c1340bd893661ea55ea3124f6de3c7a262a8b4abca0554b478b1e2ff90"
   }
  }
 },
 "nbformat": 4,
 "nbformat_minor": 2
}
