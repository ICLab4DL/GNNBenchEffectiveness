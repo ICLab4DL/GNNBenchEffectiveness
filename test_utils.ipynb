{
 "cells": [
  {
   "cell_type": "code",
   "execution_count": 7,
   "metadata": {},
   "outputs": [
    {
     "data": {
      "text/plain": [
       "<module 'my_utils' from '/li_zhengdao/github/GenerativeGNN/my_utils.py'>"
      ]
     },
     "execution_count": 7,
     "metadata": {},
     "output_type": "execute_result"
    }
   ],
   "source": [
    "import importlib\n",
    "import random\n",
    "import argparse\n",
    "import configparser\n",
    "import numpy as np\n",
    "import networkx as nx\n",
    "from collections import defaultdict\n",
    "\n",
    "import torch\n",
    "import torch.nn as nn\n",
    "import torch.nn.functional as F\n",
    "import torch_sparse\n",
    "from torch import Tensor\n",
    "from torch.nn import Linear\n",
    "from torch.utils.data import DataLoader\n",
    "from torch.utils.data import TensorDataset\n",
    "import torch.optim as optim\n",
    "\n",
    "from torch_geometric.utils import negative_sampling, to_networkx\n",
    "from typing import Union, Tuple\n",
    "from torch_geometric.typing import OptPairTensor, Adj, OptTensor, Size\n",
    "from torch_sparse import SparseTensor, matmul\n",
    "from torch_geometric.nn.conv import MessagePassing\n",
    "\n",
    "from ogb.linkproppred import PygLinkPropPredDataset, Evaluator\n",
    "\n",
    "\n",
    "import networkx as nx\n",
    "import seaborn as sns\n",
    "from matplotlib.colors import ListedColormap\n",
    "import matplotlib.pyplot as plt\n",
    "\n",
    "import scipy\n",
    "import math\n",
    "\n",
    "\n",
    "from dataset_utils import node_feature_utils\n",
    "from dataset_utils.node_feature_utils import *\n",
    "import my_utils as utils\n",
    "\n",
    "importlib.reload(utils)"
   ]
  },
  {
   "cell_type": "code",
   "execution_count": 9,
   "metadata": {},
   "outputs": [
    {
     "name": "stdout",
     "output_type": "stream",
     "text": [
      "True\n"
     ]
    }
   ],
   "source": [
    "parser = argparse.ArgumentParser()\n",
    "parser.add_argument(\"--class_cond\", action=\"store_true\", default=True)\n",
    "args = parser.parse_args({})\n",
    "print(args.class_cond)\n"
   ]
  },
  {
   "attachments": {},
   "cell_type": "markdown",
   "metadata": {},
   "source": [
    "# Test list extend()"
   ]
  },
  {
   "cell_type": "code",
   "execution_count": null,
   "metadata": {},
   "outputs": [],
   "source": [
    "import numpy as np\n",
    "import pandas as pd\n",
    "import matplotlib.pyplot as plt\n",
    "\n",
    "t = np.linspace(0, 1.5*np.pi, 2500)\n",
    "y = np.sin(t**2)+np.random.random(2500)*.6\n",
    "print(y.shape)\n",
    "fig, axes = plt.subplots(1, 1, figsize=(10, 12), dpi=150)\n",
    "\n",
    "df = pd.DataFrame(y)\n",
    "# plt.plot(df[0], 'lightblue', df[0].rolling(10).mean(), 'b')\n",
    "# plt.plot(df[0])\n",
    "# plt.show()\n",
    "axes.plot(df[0],'lightblue', df[0].rolling(20).mean(), 'r')\n",
    "# plt.plot(df[0],'lightblue', df[0].rolling(2).mean(), 'r')\n",
    "# plt.show()\n",
    "# plt.plot(df[0],'lightblue', df[0].rolling(5).mean(), 'r')\n",
    "# plt.show()\n",
    "# plt.plot(df[0],'lightblue', df[0].rolling(10).mean(), 'r')\n",
    "# plt.show()\n",
    "# plt.plot(df[0],'lightblue', df[0].rolling(20).mean(), 'r')\n",
    "plt.show()"
   ]
  },
  {
   "cell_type": "code",
   "execution_count": null,
   "metadata": {},
   "outputs": [],
   "source": [
    "def downsampling(s:np.ndarray, sample_len=64):\n",
    "    s_len = s.shape[0]\n",
    "    if s_len <= sample_len:\n",
    "        downsampled = np.pad(s, pad_width=(0, sample_len-s_len), mode='minimum')\n",
    "        return np.arange(sample_len), downsampled\n",
    "    \n",
    "    indice = np.linspace(0, s_len-1, sample_len)\n",
    "    int_idc = [int(i) for i in indice]\n",
    "    downsampled = np.array([s[i] for i in int_idc])\n",
    "    \n",
    "    return int_idc, downsampled\n",
    "\n",
    "x = np.arange(100)/10\n",
    "sig = x**2 + 0.05*x**1.5\n",
    "\n",
    "plt.figure()\n",
    "plt.plot(sig)\n",
    "int_idc, downsampled = downsampling(sig, sample_len=111)\n",
    "plt.scatter(int_idc, downsampled, c='r', s=10)\n",
    "plt.show()"
   ]
  },
  {
   "cell_type": "code",
   "execution_count": null,
   "metadata": {},
   "outputs": [],
   "source": [
    "# plot log(x) <= x/a + log(a) - 1 \n",
    "\n",
    "plt.figure()\n",
    "x = np.linspace(0.1, 1, 20)\n",
    "y = np.log(x)\n",
    "a = list(np.linspace(0.2, 1, 5))\n",
    "plt.plot(x, y, label='log x')\n",
    "for aa in a:\n",
    "    ya = x/aa + np.log(aa) - 1\n",
    "    plt.plot(x, ya, label=f'a={aa}')\n",
    "plt.legend()\n",
    "plt.show()\n"
   ]
  },
  {
   "cell_type": "code",
   "execution_count": null,
   "metadata": {},
   "outputs": [],
   "source": [
    "# Conjuagate function:\n",
    "\n",
    "x = np.linspace(0.01, 2, 20)\n",
    "fx = x * np.log(x)\n",
    "\n",
    "y = np.linspace(0.01, 2, 10)\n",
    "\n",
    "\n",
    "plt.figure()\n",
    "plt.plot(x, fx)\n",
    "for yy in y:\n",
    "    yx = x*yy - fx\n",
    "    plt.plot(x, yx)\n",
    "# plt.show()\n",
    "\n",
    "# plot y:\n",
    "yy = np.linspace(0.01, 2, 20)\n",
    "\n",
    "ys = []\n",
    "for y in yy:\n",
    "    ys.append(np.max(x*y - fx))\n",
    "plt.plot(yy, ys)\n",
    "plt.show()"
   ]
  },
  {
   "attachments": {},
   "cell_type": "markdown",
   "metadata": {},
   "source": [
    "# test A^2"
   ]
  },
  {
   "cell_type": "code",
   "execution_count": null,
   "metadata": {},
   "outputs": [],
   "source": [
    "def norm_to_one(m):\n",
    "    m[m>0]=1\n",
    "    return m\n",
    "\n",
    "def str2np(s):\n",
    "    rows = s.split(',')\n",
    "    \n",
    "    row_len = len(rows)\n",
    "    col_len = len(rows[0])\n",
    "    \n",
    "    res = np.ones(shape=(row_len, col_len))\n",
    "    \n",
    "    for i, r in enumerate(rows):\n",
    "        for j, c in enumerate(r):\n",
    "            res[i, j] = int(c)\n",
    "    return res\n",
    "\n",
    "def draw_g(adj):\n",
    "    g = nx.from_numpy_array(adj)\n",
    "    # pos = nx.nx_pydot.graphviz_layout(g1)\n",
    "    nx.draw_circular(g, with_labels=True)\n",
    "\n",
    "a = \"0101,1010,0101,1010\"\n",
    "\n",
    "a = str2np(a)\n",
    "I = np.eye(4)\n",
    "\n",
    "aa = a + I\n",
    "\n",
    "draw_g(a)"
   ]
  },
  {
   "cell_type": "code",
   "execution_count": null,
   "metadata": {},
   "outputs": [],
   "source": [
    "g = nx.cycle_graph(3)\n",
    "g1 = nx.Graph()\n",
    "\n",
    "nx.set_node_attributes(g, [1,2,4], 'labels')\n",
    "\n",
    "print(type(g), g.nodes[1]['labels'])\n",
    "g.__class__()\n",
    "print('2:', type(g), g.nodes[1]['labels'])\n"
   ]
  },
  {
   "cell_type": "code",
   "execution_count": null,
   "metadata": {},
   "outputs": [],
   "source": [
    "a2 = a @ a\n",
    "print('a:', a)\n",
    "print('a*a2:', a*a2)"
   ]
  },
  {
   "cell_type": "code",
   "execution_count": null,
   "metadata": {},
   "outputs": [],
   "source": [
    "a3 = a2_adj @ a\n",
    "\n",
    "print(a3)"
   ]
  },
  {
   "cell_type": "code",
   "execution_count": null,
   "metadata": {},
   "outputs": [],
   "source": [
    "\n",
    "a = \"0110,1010,1100,0000\"\n",
    "\n",
    "a = str2np(a)\n",
    "draw_g(a)\n",
    "I = np.eye(4)\n",
    "aa = a + I\n",
    "\n",
    "D = np.diag(np.sum(a, axis=1))\n",
    "\n",
    "print('D:', D)\n",
    "a2 = a @ a\n",
    "aa2 = aa @ aa\n",
    "\n",
    "\n",
    "a2 = a @ a\n",
    "print('a:', a)\n",
    "print('aa:',aa)\n",
    "print('a*a2:', a*a2)"
   ]
  },
  {
   "cell_type": "code",
   "execution_count": null,
   "metadata": {},
   "outputs": [],
   "source": [
    "\n",
    "a = \"0110,1000,1000,0000\"\n",
    "\n",
    "a = str2np(a)\n",
    "draw_g(a)\n",
    "I = np.eye(4)\n",
    "aa = a + I\n",
    "\n",
    "a2 = a @ a\n",
    "a2_norm = norm_to_one(a2) - I\n",
    "\n",
    "a2_adj = a2_norm + a\n",
    "print(a2_adj)\n",
    "\n",
    "a3 = a2_adj @ a\n",
    "\n",
    "print(a3)"
   ]
  },
  {
   "attachments": {},
   "cell_type": "markdown",
   "metadata": {},
   "source": [
    "# $Cycle Count = A \\odot A^2 - A$"
   ]
  },
  {
   "cell_type": "code",
   "execution_count": null,
   "metadata": {},
   "outputs": [],
   "source": [
    "cyc = a * a2 - a\n",
    "print(cyc)"
   ]
  },
  {
   "cell_type": "code",
   "execution_count": 5,
   "metadata": {},
   "outputs": [],
   "source": [
    "class SmilesDataset:\n",
    "    def __init__(self, dataset, smiles) -> None:\n",
    "        self.dataset = dataset\n",
    "        self.smiles = smiles\n",
    "\n",
    "    def __getitem__(self, idx):\n",
    "        return self.dataset[idx]\n",
    "    \n",
    "    def __len__(self):\n",
    "        return len(self.dataset)"
   ]
  },
  {
   "cell_type": "code",
   "execution_count": 6,
   "metadata": {},
   "outputs": [],
   "source": [
    "from torch_geometric.datasets import QM9, MoleculeNet\n",
    "\n",
    "a = MoleculeNet('DATA', name='hiv')\n",
    "\n",
    "smiles = [i.smiles for i in a]\n",
    "sd = SmilesDataset(a, smiles=smiles)"
   ]
  },
  {
   "cell_type": "code",
   "execution_count": 7,
   "metadata": {},
   "outputs": [
    {
     "name": "stdout",
     "output_type": "stream",
     "text": [
      "41127\n",
      "CCC1=[O+][Cu-3]2([O+]=C(CC)C1)[O+]=C(CC)CC(CC)=[O+]2\n",
      "Data(edge_attr=[40, 3], edge_index=[2, 40], smiles=\"CCC1=[O+][Cu-3]2([O+]=C(CC)C1)[O+]=C(CC)CC(CC)=[O+]2\", x=[19, 9], y=[1, 1])\n"
     ]
    }
   ],
   "source": []
  },
  {
   "cell_type": "code",
   "execution_count": 12,
   "metadata": {},
   "outputs": [],
   "source": [
    "\n",
    "import torch\n",
    "from torch.utils.data import DataLoader, WeightedRandomSampler\n",
    "\t\n",
    "class ImbalancedDatasetSampler(WeightedRandomSampler):\n",
    "    def __init__(self, targets, num_samples=None):\n",
    "        self.num_samples = len(targets) if num_samples is None else num_samples\n",
    "\n",
    "        class_sample_count = torch.unique(torch.tensor(targets), return_counts=True)[1]\n",
    "        weight = 1. / class_sample_count.float()\n",
    "        print('weight: ', weight)\n",
    "        samples_weight = weight[targets]\n",
    "        self.samples_weight = torch.FloatTensor(samples_weight)\n",
    "\n",
    "        super().__init__(self.samples_weight, self.num_samples, replacement=True)"
   ]
  },
  {
   "cell_type": "code",
   "execution_count": 21,
   "metadata": {},
   "outputs": [
    {
     "name": "stdout",
     "output_type": "stream",
     "text": [
      "Counter({0: 11000, 1: 1334, 2: 333, 3: 333})\n"
     ]
    }
   ],
   "source": [
    "targets = [i%2 for i in range(2000)]\n",
    "targets += [i%3+1 for i in range(1000)]\n",
    "targets += [0 for i in range(10000)]\n",
    "\n",
    "from collections import Counter\n",
    "\n",
    "print(Counter(targets))"
   ]
  },
  {
   "cell_type": "code",
   "execution_count": 22,
   "metadata": {},
   "outputs": [
    {
     "name": "stdout",
     "output_type": "stream",
     "text": [
      "weight:  tensor([9.0909e-05, 7.4963e-04, 3.0030e-03, 3.0030e-03])\n",
      "Counter({3: 33, 1: 32, 2: 32, 0: 31})\n",
      "Counter({3: 40, 1: 32, 0: 31, 2: 25})\n",
      "Counter({2: 41, 3: 31, 1: 30, 0: 26})\n",
      "Counter({3: 36, 1: 35, 0: 31, 2: 26})\n",
      "Counter({0: 36, 3: 35, 1: 29, 2: 28})\n",
      "Counter({0: 36, 2: 34, 3: 29, 1: 29})\n",
      "Counter({0: 36, 2: 32, 1: 32, 3: 28})\n",
      "Counter({2: 37, 0: 32, 3: 32, 1: 27})\n",
      "Counter({3: 40, 0: 33, 1: 32, 2: 23})\n",
      "Counter({2: 42, 1: 32, 3: 31, 0: 23})\n",
      "Counter({3: 38, 1: 34, 0: 30, 2: 26})\n",
      "Counter({2: 36, 3: 34, 0: 31, 1: 27})\n",
      "Counter({1: 40, 3: 36, 0: 31, 2: 21})\n",
      "Counter({2: 39, 3: 30, 0: 30, 1: 29})\n",
      "Counter({1: 34, 3: 33, 0: 31, 2: 30})\n",
      "Counter({3: 35, 0: 34, 2: 34, 1: 25})\n",
      "Counter({2: 47, 3: 30, 1: 26, 0: 25})\n",
      "Counter({1: 38, 3: 33, 2: 31, 0: 26})\n",
      "Counter({3: 36, 1: 35, 0: 31, 2: 26})\n",
      "Counter({1: 35, 0: 34, 3: 33, 2: 26})\n",
      "Counter({2: 38, 1: 35, 0: 30, 3: 25})\n",
      "Counter({2: 37, 1: 34, 3: 32, 0: 25})\n",
      "Counter({1: 35, 2: 32, 0: 31, 3: 30})\n",
      "Counter({3: 39, 0: 34, 2: 34, 1: 21})\n",
      "Counter({3: 41, 0: 32, 1: 28, 2: 27})\n",
      "Counter({3: 46, 2: 29, 0: 28, 1: 25})\n",
      "Counter({1: 36, 3: 34, 0: 29, 2: 29})\n",
      "Counter({1: 37, 0: 34, 2: 31, 3: 26})\n",
      "Counter({2: 40, 3: 35, 1: 28, 0: 25})\n",
      "Counter({2: 35, 0: 33, 1: 33, 3: 27})\n",
      "Counter({1: 36, 3: 34, 0: 30, 2: 28})\n",
      "Counter({2: 40, 3: 31, 0: 30, 1: 27})\n",
      "Counter({3: 38, 0: 34, 1: 29, 2: 27})\n",
      "Counter({0: 39, 2: 32, 3: 31, 1: 26})\n",
      "Counter({2: 37, 1: 32, 0: 30, 3: 29})\n",
      "Counter({1: 36, 2: 35, 0: 30, 3: 27})\n",
      "Counter({1: 38, 0: 32, 3: 30, 2: 28})\n",
      "Counter({1: 39, 2: 32, 3: 30, 0: 27})\n",
      "Counter({3: 40, 2: 31, 1: 29, 0: 28})\n",
      "Counter({2: 42, 0: 33, 3: 30, 1: 23})\n",
      "Counter({2: 36, 3: 34, 0: 32, 1: 26})\n",
      "Counter({1: 38, 0: 36, 3: 30, 2: 24})\n",
      "Counter({2: 37, 0: 33, 3: 33, 1: 25})\n",
      "Counter({0: 39, 1: 33, 3: 32, 2: 24})\n",
      "Counter({2: 37, 3: 31, 1: 31, 0: 29})\n",
      "Counter({0: 35, 1: 34, 3: 32, 2: 27})\n",
      "Counter({0: 38, 3: 37, 1: 31, 2: 22})\n",
      "Counter({0: 42, 2: 35, 3: 27, 1: 24})\n",
      "Counter({0: 42, 2: 33, 1: 30, 3: 23})\n",
      "Counter({0: 36, 2: 31, 3: 31, 1: 30})\n",
      "Counter({2: 41, 1: 30, 0: 29, 3: 28})\n",
      "Counter({3: 43, 2: 32, 0: 27, 1: 26})\n",
      "Counter({3: 41, 1: 32, 0: 29, 2: 26})\n",
      "Counter({2: 35, 3: 34, 1: 30, 0: 29})\n",
      "Counter({3: 39, 1: 31, 2: 31, 0: 27})\n",
      "Counter({1: 41, 3: 32, 2: 30, 0: 25})\n",
      "Counter({2: 36, 0: 35, 3: 33, 1: 24})\n",
      "Counter({0: 38, 2: 31, 3: 30, 1: 29})\n",
      "Counter({0: 39, 3: 37, 2: 27, 1: 25})\n",
      "Counter({2: 40, 0: 33, 3: 33, 1: 22})\n",
      "Counter({2: 33, 1: 33, 0: 33, 3: 29})\n",
      "Counter({2: 39, 0: 32, 3: 30, 1: 27})\n",
      "Counter({3: 42, 2: 39, 1: 28, 0: 19})\n",
      "Counter({1: 37, 3: 33, 0: 30, 2: 28})\n",
      "Counter({0: 43, 2: 32, 3: 28, 1: 25})\n",
      "Counter({3: 39, 0: 32, 1: 29, 2: 28})\n",
      "Counter({0: 39, 3: 35, 1: 32, 2: 22})\n",
      "Counter({3: 41, 1: 39, 0: 28, 2: 20})\n",
      "Counter({0: 37, 3: 33, 2: 33, 1: 25})\n",
      "Counter({0: 36, 1: 35, 3: 31, 2: 26})\n",
      "Counter({1: 37, 3: 37, 0: 31, 2: 23})\n",
      "Counter({2: 37, 1: 37, 3: 29, 0: 25})\n",
      "Counter({3: 40, 2: 33, 0: 32, 1: 23})\n",
      "Counter({2: 35, 1: 33, 3: 31, 0: 29})\n",
      "Counter({0: 33, 2: 33, 3: 31, 1: 31})\n",
      "Counter({0: 37, 3: 31, 1: 30, 2: 30})\n",
      "Counter({3: 38, 0: 36, 2: 33, 1: 21})\n",
      "Counter({3: 39, 0: 33, 1: 33, 2: 23})\n",
      "Counter({1: 39, 3: 33, 0: 31, 2: 25})\n",
      "Counter({3: 35, 1: 34, 2: 30, 0: 29})\n",
      "Counter({2: 39, 1: 34, 3: 33, 0: 22})\n",
      "Counter({2: 36, 1: 36, 0: 29, 3: 27})\n",
      "Counter({0: 43, 1: 31, 2: 30, 3: 24})\n",
      "Counter({0: 35, 3: 34, 1: 32, 2: 27})\n",
      "Counter({1: 39, 3: 34, 2: 28, 0: 27})\n",
      "Counter({1: 35, 0: 34, 3: 30, 2: 29})\n",
      "Counter({2: 41, 0: 32, 3: 29, 1: 26})\n",
      "Counter({3: 39, 0: 32, 2: 30, 1: 27})\n",
      "Counter({2: 39, 1: 33, 3: 32, 0: 24})\n",
      "Counter({2: 45, 3: 38, 0: 26, 1: 19})\n",
      "Counter({2: 36, 0: 35, 1: 30, 3: 27})\n",
      "Counter({2: 39, 3: 36, 1: 33, 0: 20})\n",
      "Counter({1: 37, 2: 37, 3: 33, 0: 21})\n",
      "Counter({3: 42, 1: 32, 0: 27, 2: 27})\n",
      "Counter({3: 44, 0: 30, 2: 28, 1: 26})\n",
      "Counter({0: 40, 3: 38, 1: 26, 2: 24})\n",
      "Counter({1: 38, 2: 33, 0: 31, 3: 26})\n",
      "Counter({1: 36, 0: 35, 3: 34, 2: 23})\n",
      "Counter({1: 38, 3: 35, 2: 30, 0: 25})\n",
      "Counter({0: 38, 1: 36, 2: 29, 3: 25})\n",
      "Counter({1: 44, 2: 30, 0: 29, 3: 25})\n",
      "Counter({0: 22, 1: 19, 3: 17, 2: 14})\n"
     ]
    }
   ],
   "source": [
    "from torch.utils.data.dataset import Dataset\n",
    "from torch.utils.data.dataloader import DataLoader\n",
    "\n",
    "sampler = ImbalancedDatasetSampler(targets)\n",
    "\n",
    "class MyDataset(Dataset):\n",
    "    def __init__(self, data) -> None:\n",
    "        super().__init__()\n",
    "        self.data = data\n",
    "\n",
    "    def __len__(self):\n",
    "        return len(self.data)\n",
    "    \n",
    "    def __getitem__(self, index):\n",
    "        return self.data[index]\n",
    "    \n",
    "\n",
    "dataset = MyDataset(targets)\n",
    "dataloader = DataLoader(dataset=dataset, sampler=sampler, batch_size=128)\n",
    "\n",
    "for i in dataloader:\n",
    "    ii = [j.item() for j in i]\n",
    "    print(Counter(ii))\n",
    "    "
   ]
  },
  {
   "cell_type": "code",
   "execution_count": 1,
   "metadata": {},
   "outputs": [],
   "source": [
    "def test_tuple(a, *output):\n",
    "    print(a)\n",
    "    print(output)"
   ]
  },
  {
   "cell_type": "code",
   "execution_count": 3,
   "metadata": {},
   "outputs": [
    {
     "ename": "TypeError",
     "evalue": "test_tuple() argument after * must be an iterable, not int",
     "output_type": "error",
     "traceback": [
      "\u001b[0;31m---------------------------------------------------------------------------\u001b[0m",
      "\u001b[0;31mTypeError\u001b[0m                                 Traceback (most recent call last)",
      "\u001b[0;32m<ipython-input-3-70a586bcb2d8>\u001b[0m in \u001b[0;36m<module>\u001b[0;34m\u001b[0m\n\u001b[0;32m----> 1\u001b[0;31m \u001b[0mtest_tuple\u001b[0m\u001b[0;34m(\u001b[0m\u001b[0;36m1\u001b[0m\u001b[0;34m,\u001b[0m \u001b[0;34m*\u001b[0m\u001b[0;34m(\u001b[0m\u001b[0;36m2\u001b[0m\u001b[0;34m)\u001b[0m\u001b[0;34m)\u001b[0m\u001b[0;34m\u001b[0m\u001b[0;34m\u001b[0m\u001b[0m\n\u001b[0m",
      "\u001b[0;31mTypeError\u001b[0m: test_tuple() argument after * must be an iterable, not int"
     ]
    }
   ],
   "source": [
    "test_tuple(1, *(2))"
   ]
  },
  {
   "cell_type": "code",
   "execution_count": null,
   "metadata": {},
   "outputs": [],
   "source": []
  }
 ],
 "metadata": {
  "kernelspec": {
   "display_name": "Python 3",
   "language": "python",
   "name": "python3"
  },
  "language_info": {
   "codemirror_mode": {
    "name": "ipython",
    "version": 3
   },
   "file_extension": ".py",
   "mimetype": "text/x-python",
   "name": "python",
   "nbconvert_exporter": "python",
   "pygments_lexer": "ipython3",
   "version": "3.6.8"
  },
  "orig_nbformat": 4,
  "vscode": {
   "interpreter": {
    "hash": "767d51c1340bd893661ea55ea3124f6de3c7a262a8b4abca0554b478b1e2ff90"
   }
  }
 },
 "nbformat": 4,
 "nbformat_minor": 2
}
