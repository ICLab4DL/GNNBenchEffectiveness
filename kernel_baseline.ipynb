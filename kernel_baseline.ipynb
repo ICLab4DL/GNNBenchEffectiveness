{
 "cells": [
  {
   "attachments": {},
   "cell_type": "markdown",
   "metadata": {},
   "source": [
    "# Load local dataset"
   ]
  },
  {
   "cell_type": "code",
   "execution_count": 1,
   "metadata": {},
   "outputs": [
    {
     "name": "stdout",
     "output_type": "stream",
     "text": [
      "load node feauture: ENZYMES_degree_dist_shuffled.npy\n",
      "\n",
      "load node feauture: IMDB-MULTI_degree_dist_shuffled.npy\n",
      "\n",
      "load node feauture: COLLAB_degree_dist_shuffled.npy\n",
      "\n",
      "load node feauture: NCI1_degree_dist_shuffled.npy\n",
      "\n"
     ]
    },
    {
     "name": "stderr",
     "output_type": "stream",
     "text": [
      "Using backend: pytorch\n"
     ]
    },
    {
     "data": {
      "text/plain": [
       "<module 'my_utils' from '/li_zhengdao/github/GenerativeGNN/my_utils.py'>"
      ]
     },
     "execution_count": 1,
     "metadata": {},
     "output_type": "execute_result"
    }
   ],
   "source": [
    "import importlib\n",
    "import random\n",
    "import argparse\n",
    "import configparser\n",
    "import numpy as np\n",
    "import networkx as nx\n",
    "from collections import defaultdict\n",
    "\n",
    "import torch\n",
    "import torch.nn as nn\n",
    "import torch.nn.functional as F\n",
    "import torch_sparse\n",
    "from torch import Tensor\n",
    "from torch.nn import Linear\n",
    "from torch.utils.data import DataLoader\n",
    "from torch.utils.data import TensorDataset\n",
    "import torch.optim as optim\n",
    "\n",
    "from torch_geometric.utils import negative_sampling, to_networkx\n",
    "from typing import Union, Tuple\n",
    "from torch_geometric.typing import OptPairTensor, Adj, OptTensor, Size\n",
    "from torch_sparse import SparseTensor, matmul\n",
    "from torch_geometric.nn.conv import MessagePassing\n",
    "\n",
    "from ogb.linkproppred import PygLinkPropPredDataset, Evaluator\n",
    "\n",
    "\n",
    "import networkx as nx\n",
    "import seaborn as sns\n",
    "from matplotlib.colors import ListedColormap\n",
    "import matplotlib.pyplot as plt\n",
    "\n",
    "import scipy\n",
    "import math\n",
    "\n",
    "\n",
    "from dataset_utils import node_feature_utils\n",
    "from dataset_utils.node_feature_utils import *\n",
    "import my_utils as utils\n",
    "\n",
    "importlib.reload(utils)"
   ]
  },
  {
   "cell_type": "code",
   "execution_count": 2,
   "metadata": {},
   "outputs": [
    {
     "name": "stdout",
     "output_type": "stream",
     "text": [
      "dict_keys(['REDDIT-BINARY', 'REDDIT-MULTI-5K', 'COLLAB', 'IMDB-BINARY', 'IMDB-MULTI', 'NCI1', 'ENZYMES', 'PROTEINS', 'DD', 'MUTAG', 'CSL', 'CIFAR10', 'PPI', 'hiv', 'bace', 'bbpb'])\n",
      "loaded dataset, name: CIFAR10\n",
      "processed_dir:  DATA/CIFAR10/processed\n",
      "load dataset !\n",
      "dataset len:  60000\n",
      "load splits: DATA/CIFAR10/processed/CIFAR10_splits.json\n",
      "split counts: 1\n",
      "<class 'list'>\n"
     ]
    }
   ],
   "source": [
    "# Load specific dataset:\n",
    "\n",
    "import sys,os\n",
    "sys.path.append(os.getcwd())\n",
    "\n",
    "\n",
    "from PrepareDatasets import DATASETS\n",
    "import my_utils\n",
    "import dataset_utils\n",
    "\n",
    "\n",
    "print(DATASETS.keys())\n",
    "\"\"\"\n",
    "    'REDDIT-BINARY': RedditBinary,\n",
    "    'REDDIT-MULTI-5K': Reddit5K,\n",
    "    'COLLAB': Collab,\n",
    "    'IMDB-BINARY': IMDBBinary,\n",
    "    'IMDB-MULTI': IMDBMulti,\n",
    "    'ENZYMES': Enzymes,\n",
    "    'PROTEINS': Proteins,\n",
    "    'NCI1': NCI1,\n",
    "    'DD': DD,\n",
    "    \"MUTAG\": Mutag,\n",
    "    'CSL': CSL\n",
    "\"\"\"\n",
    "\n",
    "data_names = ['MUTAG']\n",
    "data_names = ['PROTEINS']\n",
    "data_names = ['DD']\n",
    "data_names = ['ENZYMES']\n",
    "data_names = ['NCI1']\n",
    "data_names = ['IMDB-MULTI']\n",
    "data_names = ['CIFAR10']\n",
    "# data_names = ['IMDB-BINARY']\n",
    "datasets_obj = {}\n",
    "for k, v in DATASETS.items():\n",
    "    if k not in data_names:\n",
    "        continue\n",
    "    \n",
    "    print('loaded dataset, name:', k)\n",
    "    dat = v(use_node_attrs=True)\n",
    "    datasets_obj[k] = dat\n",
    "    print(type(dat.dataset.get_data()))\n"
   ]
  },
  {
   "attachments": {},
   "cell_type": "markdown",
   "metadata": {},
   "source": []
  },
  {
   "cell_type": "code",
   "execution_count": 3,
   "metadata": {},
   "outputs": [
    {
     "ename": "KeyError",
     "evalue": "'MUTAG'",
     "output_type": "error",
     "traceback": [
      "\u001b[0;31m---------------------------------------------------------------------------\u001b[0m",
      "\u001b[0;31mKeyError\u001b[0m                                  Traceback (most recent call last)",
      "\u001b[0;32m<ipython-input-3-91c1b8dd9aad>\u001b[0m in \u001b[0;36m<module>\u001b[0;34m\u001b[0m\n\u001b[0;32m----> 1\u001b[0;31m \u001b[0mda\u001b[0m \u001b[0;34m=\u001b[0m \u001b[0mdatasets_obj\u001b[0m\u001b[0;34m[\u001b[0m\u001b[0;34m'MUTAG'\u001b[0m\u001b[0;34m]\u001b[0m\u001b[0;34m.\u001b[0m\u001b[0mget_test_fold\u001b[0m\u001b[0;34m(\u001b[0m\u001b[0;36m1\u001b[0m\u001b[0;34m,\u001b[0m \u001b[0mbatch_size\u001b[0m\u001b[0;34m=\u001b[0m\u001b[0;36m1\u001b[0m\u001b[0;34m,\u001b[0m \u001b[0mshuffle\u001b[0m\u001b[0;34m=\u001b[0m\u001b[0;32mTrue\u001b[0m\u001b[0;34m)\u001b[0m\u001b[0;34m.\u001b[0m\u001b[0mdataset\u001b[0m\u001b[0;34m[\u001b[0m\u001b[0;36m0\u001b[0m\u001b[0;34m]\u001b[0m\u001b[0;34m\u001b[0m\u001b[0;34m\u001b[0m\u001b[0m\n\u001b[0m\u001b[1;32m      2\u001b[0m \u001b[0;34m\u001b[0m\u001b[0m\n\u001b[1;32m      3\u001b[0m \u001b[0;32mfrom\u001b[0m \u001b[0mtorch_geometric\u001b[0m \u001b[0;32mimport\u001b[0m \u001b[0mutils\u001b[0m \u001b[0;32mas\u001b[0m \u001b[0mpyg_utils\u001b[0m\u001b[0;34m\u001b[0m\u001b[0;34m\u001b[0m\u001b[0m\n\u001b[1;32m      4\u001b[0m \u001b[0;34m\u001b[0m\u001b[0m\n\u001b[1;32m      5\u001b[0m \u001b[0;34m\u001b[0m\u001b[0m\n",
      "\u001b[0;31mKeyError\u001b[0m: 'MUTAG'"
     ]
    }
   ],
   "source": [
    "da = datasets_obj['MUTAG'].get_test_fold(1, batch_size=1, shuffle=True).dataset[0]\n",
    "\n",
    "from torch_geometric import utils as pyg_utils\n",
    "\n",
    "\n",
    "G = pyg_utils.to_networkx(da)"
   ]
  },
  {
   "cell_type": "code",
   "execution_count": 3,
   "metadata": {},
   "outputs": [],
   "source": [
    "def get_each_folder(data_name, fold_id, batch_size=1):\n",
    "    \n",
    "    fold_test = datasets_obj[data_name].get_test_fold(fold_id, batch_size=batch_size, shuffle=True).dataset\n",
    "    fold_train, fold_val = datasets_obj[data_name].get_model_selection_fold(fold_id, inner_idx=None,\n",
    "                                                                          batch_size=batch_size, shuffle=True)\n",
    "    fold_train = fold_train.dataset\n",
    "    fold_val = fold_val.dataset\n",
    "    \n",
    "    # train_G = [pyg_utils.to_networkx(d, node_attrs=['x']) for d in fold_train.get_subset()]\n",
    "    # test_G = [pyg_utils.to_networkx(d, node_attrs=['x']) for d in fold_test.get_subset()]\n",
    "    # print('x: ',train_G[0].nodes[0]['x'])\n",
    "    \n",
    "    train_adjs, test_adjs = [], []\n",
    "    train_y, test_y = [], []\n",
    "    \n",
    "    def node_fea_to_dict(node_fea):\n",
    "        res = {}\n",
    "        for i in range(node_fea.shape[0]):\n",
    "            res[i] = node_fea[i]\n",
    "        return res\n",
    "        \n",
    "    for d in fold_train.get_subset():\n",
    "        train_y.append(d.y.item())\n",
    "        train_adjs.append([d.to_numpy_array()])\n",
    "\n",
    "    for d in fold_test.get_subset():\n",
    "        test_y.append(d.y.item())\n",
    "        test_adjs.append([d.to_numpy_array()])\n",
    "        \n",
    "    return train_adjs, test_adjs, train_y, test_y\n",
    "    # do not use val for kernel methods.\n",
    "#     for d in fold.dataset.get_subset():"
   ]
  },
  {
   "cell_type": "code",
   "execution_count": 2,
   "metadata": {},
   "outputs": [],
   "source": [
    "# Transform from networkx\n",
    "from grakel.utils import graph_from_networkx"
   ]
  },
  {
   "cell_type": "code",
   "execution_count": 4,
   "metadata": {},
   "outputs": [],
   "source": [
    "import numpy as np\n",
    "\n",
    "from sklearn.model_selection import train_test_split\n",
    "from sklearn.svm import SVC\n",
    "from sklearn.metrics import accuracy_score\n",
    "\n",
    "from grakel.datasets import fetch_dataset\n",
    "from grakel.kernels import ShortestPath\n",
    "\n",
    "# Loads the MUTAG dataset\n",
    "\n",
    "\n",
    "\n",
    "# MUTAG = fetch_dataset(\"MUTAG\", verbose=False)\n",
    "# G, y = MUTAG.data, MUTAG.target\n",
    "# print('G10:', G[0])\n",
    "\n",
    "def train_with_kernel(gk):\n",
    "    res=[]\n",
    "    for i in range(10):\n",
    "        G_train, G_test, y_train, y_test = get_each_folder(i)\n",
    "        \n",
    "        # G_train = [g for g in graph_from_networkx(G_train,node_labels_tag='x')]\n",
    "        # G_test = [g for g in graph_from_networkx(G_test,node_labels_tag='x')]\n",
    "        # print('G_train 10:',G_train[:10])\n",
    "        \n",
    "        # G_train, G_test, y_train, y_test = train_test_split(G_train, y_train, test_size=0.1)\n",
    "        # Uses the shortest path kernel to generate the kernel matrices\n",
    "        \n",
    "        K_train = gk.fit_transform(G_train)\n",
    "        K_test = gk.transform(G_test)\n",
    "\n",
    "        # Uses the SVM classifier to perform classification\n",
    "        clf = SVC(kernel=\"precomputed\")\n",
    "        clf.fit(K_train, y_train)\n",
    "        y_pred = clf.predict(K_test)\n",
    "\n",
    "        # Computes and prints the classification accuracy\n",
    "        acc = accuracy_score(y_test, y_pred)\n",
    "        res.append(acc)\n",
    "        # print(\"Accuracy:\", str(round(acc*100, 2)) + \"%\")\n",
    "        \n",
    "    res = np.array(res)\n",
    "    print(f'Acc, mean: {round(np.mean(res)*100, 4)}, std: {round(100*np.std(res),4)}')"
   ]
  },
  {
   "cell_type": "code",
   "execution_count": 24,
   "metadata": {},
   "outputs": [
    {
     "ename": "KeyError",
     "evalue": "'IMDB-BINARY'",
     "output_type": "error",
     "traceback": [
      "\u001b[0;31m---------------------------------------------------------------------------\u001b[0m",
      "\u001b[0;31mKeyError\u001b[0m                                  Traceback (most recent call last)",
      "\u001b[0;32m<ipython-input-24-fe61f3251169>\u001b[0m in \u001b[0;36m<module>\u001b[0;34m\u001b[0m\n\u001b[1;32m      1\u001b[0m \u001b[0;31m# ShortestPathKernel\u001b[0m\u001b[0;34m\u001b[0m\u001b[0;34m\u001b[0m\u001b[0;34m\u001b[0m\u001b[0m\n\u001b[1;32m      2\u001b[0m \u001b[0mgk\u001b[0m \u001b[0;34m=\u001b[0m \u001b[0mShortestPath\u001b[0m\u001b[0;34m(\u001b[0m\u001b[0mnormalize\u001b[0m\u001b[0;34m=\u001b[0m\u001b[0;32mTrue\u001b[0m\u001b[0;34m,\u001b[0m \u001b[0mwith_labels\u001b[0m\u001b[0;34m=\u001b[0m\u001b[0;32mFalse\u001b[0m\u001b[0;34m)\u001b[0m\u001b[0;34m\u001b[0m\u001b[0;34m\u001b[0m\u001b[0m\n\u001b[0;32m----> 3\u001b[0;31m \u001b[0mtrain_with_kernel\u001b[0m\u001b[0;34m(\u001b[0m\u001b[0mgk\u001b[0m\u001b[0;34m)\u001b[0m\u001b[0;34m\u001b[0m\u001b[0;34m\u001b[0m\u001b[0m\n\u001b[0m",
      "\u001b[0;32m<ipython-input-23-a1deb3ef86fa>\u001b[0m in \u001b[0;36mtrain_with_kernel\u001b[0;34m(gk)\u001b[0m\n\u001b[1;32m     19\u001b[0m     \u001b[0mres\u001b[0m\u001b[0;34m=\u001b[0m\u001b[0;34m[\u001b[0m\u001b[0;34m]\u001b[0m\u001b[0;34m\u001b[0m\u001b[0;34m\u001b[0m\u001b[0m\n\u001b[1;32m     20\u001b[0m     \u001b[0;32mfor\u001b[0m \u001b[0mi\u001b[0m \u001b[0;32min\u001b[0m \u001b[0mrange\u001b[0m\u001b[0;34m(\u001b[0m\u001b[0;36m10\u001b[0m\u001b[0;34m)\u001b[0m\u001b[0;34m:\u001b[0m\u001b[0;34m\u001b[0m\u001b[0;34m\u001b[0m\u001b[0m\n\u001b[0;32m---> 21\u001b[0;31m         \u001b[0mG_train\u001b[0m\u001b[0;34m,\u001b[0m \u001b[0mG_test\u001b[0m\u001b[0;34m,\u001b[0m \u001b[0my_train\u001b[0m\u001b[0;34m,\u001b[0m \u001b[0my_test\u001b[0m \u001b[0;34m=\u001b[0m \u001b[0mget_each_folder\u001b[0m\u001b[0;34m(\u001b[0m\u001b[0mi\u001b[0m\u001b[0;34m)\u001b[0m\u001b[0;34m\u001b[0m\u001b[0;34m\u001b[0m\u001b[0m\n\u001b[0m\u001b[1;32m     22\u001b[0m \u001b[0;34m\u001b[0m\u001b[0m\n\u001b[1;32m     23\u001b[0m         \u001b[0;31m# G_train = [g for g in graph_from_networkx(G_train,node_labels_tag='x')]\u001b[0m\u001b[0;34m\u001b[0m\u001b[0;34m\u001b[0m\u001b[0;34m\u001b[0m\u001b[0m\n",
      "\u001b[0;32m<ipython-input-21-5989fe46bae1>\u001b[0m in \u001b[0;36mget_each_folder\u001b[0;34m(fold_id, batch_size)\u001b[0m\n\u001b[1;32m      1\u001b[0m \u001b[0;32mdef\u001b[0m \u001b[0mget_each_folder\u001b[0m\u001b[0;34m(\u001b[0m\u001b[0mfold_id\u001b[0m\u001b[0;34m,\u001b[0m \u001b[0mbatch_size\u001b[0m\u001b[0;34m=\u001b[0m\u001b[0;36m1\u001b[0m\u001b[0;34m)\u001b[0m\u001b[0;34m:\u001b[0m\u001b[0;34m\u001b[0m\u001b[0;34m\u001b[0m\u001b[0m\n\u001b[1;32m      2\u001b[0m \u001b[0;34m\u001b[0m\u001b[0m\n\u001b[0;32m----> 3\u001b[0;31m     \u001b[0mfold_test\u001b[0m \u001b[0;34m=\u001b[0m \u001b[0mdatasets_obj\u001b[0m\u001b[0;34m[\u001b[0m\u001b[0;34m'IMDB-BINARY'\u001b[0m\u001b[0;34m]\u001b[0m\u001b[0;34m.\u001b[0m\u001b[0mget_test_fold\u001b[0m\u001b[0;34m(\u001b[0m\u001b[0mfold_id\u001b[0m\u001b[0;34m,\u001b[0m \u001b[0mbatch_size\u001b[0m\u001b[0;34m=\u001b[0m\u001b[0mbatch_size\u001b[0m\u001b[0;34m,\u001b[0m \u001b[0mshuffle\u001b[0m\u001b[0;34m=\u001b[0m\u001b[0;32mTrue\u001b[0m\u001b[0;34m)\u001b[0m\u001b[0;34m.\u001b[0m\u001b[0mdataset\u001b[0m\u001b[0;34m\u001b[0m\u001b[0;34m\u001b[0m\u001b[0m\n\u001b[0m\u001b[1;32m      4\u001b[0m     fold_train, fold_val = datasets_obj['IMDB-BINARY'].get_model_selection_fold(fold_id, inner_idx=None,\n\u001b[1;32m      5\u001b[0m                                                                           batch_size=batch_size, shuffle=True)\n",
      "\u001b[0;31mKeyError\u001b[0m: 'IMDB-BINARY'"
     ]
    }
   ],
   "source": [
    "# ShortestPathKernel\n",
    "gk = ShortestPath(normalize=True, with_labels=False)\n",
    "train_with_kernel(gk)"
   ]
  },
  {
   "cell_type": "code",
   "execution_count": 25,
   "metadata": {},
   "outputs": [
    {
     "ename": "KeyError",
     "evalue": "'IMDB-BINARY'",
     "output_type": "error",
     "traceback": [
      "\u001b[0;31m---------------------------------------------------------------------------\u001b[0m",
      "\u001b[0;31mKeyError\u001b[0m                                  Traceback (most recent call last)",
      "\u001b[0;32m<ipython-input-25-71d95203180e>\u001b[0m in \u001b[0;36m<module>\u001b[0;34m\u001b[0m\n\u001b[1;32m      4\u001b[0m \u001b[0mrw_gk\u001b[0m \u001b[0;34m=\u001b[0m \u001b[0mRandomWalk\u001b[0m\u001b[0;34m(\u001b[0m\u001b[0;34m)\u001b[0m\u001b[0;34m\u001b[0m\u001b[0;34m\u001b[0m\u001b[0m\n\u001b[1;32m      5\u001b[0m \u001b[0;34m\u001b[0m\u001b[0m\n\u001b[0;32m----> 6\u001b[0;31m \u001b[0mtrain_with_kernel\u001b[0m\u001b[0;34m(\u001b[0m\u001b[0mrw_gk\u001b[0m\u001b[0;34m)\u001b[0m\u001b[0;34m\u001b[0m\u001b[0;34m\u001b[0m\u001b[0m\n\u001b[0m",
      "\u001b[0;32m<ipython-input-23-a1deb3ef86fa>\u001b[0m in \u001b[0;36mtrain_with_kernel\u001b[0;34m(gk)\u001b[0m\n\u001b[1;32m     19\u001b[0m     \u001b[0mres\u001b[0m\u001b[0;34m=\u001b[0m\u001b[0;34m[\u001b[0m\u001b[0;34m]\u001b[0m\u001b[0;34m\u001b[0m\u001b[0;34m\u001b[0m\u001b[0m\n\u001b[1;32m     20\u001b[0m     \u001b[0;32mfor\u001b[0m \u001b[0mi\u001b[0m \u001b[0;32min\u001b[0m \u001b[0mrange\u001b[0m\u001b[0;34m(\u001b[0m\u001b[0;36m10\u001b[0m\u001b[0;34m)\u001b[0m\u001b[0;34m:\u001b[0m\u001b[0;34m\u001b[0m\u001b[0;34m\u001b[0m\u001b[0m\n\u001b[0;32m---> 21\u001b[0;31m         \u001b[0mG_train\u001b[0m\u001b[0;34m,\u001b[0m \u001b[0mG_test\u001b[0m\u001b[0;34m,\u001b[0m \u001b[0my_train\u001b[0m\u001b[0;34m,\u001b[0m \u001b[0my_test\u001b[0m \u001b[0;34m=\u001b[0m \u001b[0mget_each_folder\u001b[0m\u001b[0;34m(\u001b[0m\u001b[0mi\u001b[0m\u001b[0;34m)\u001b[0m\u001b[0;34m\u001b[0m\u001b[0;34m\u001b[0m\u001b[0m\n\u001b[0m\u001b[1;32m     22\u001b[0m \u001b[0;34m\u001b[0m\u001b[0m\n\u001b[1;32m     23\u001b[0m         \u001b[0;31m# G_train = [g for g in graph_from_networkx(G_train,node_labels_tag='x')]\u001b[0m\u001b[0;34m\u001b[0m\u001b[0;34m\u001b[0m\u001b[0;34m\u001b[0m\u001b[0m\n",
      "\u001b[0;32m<ipython-input-21-5989fe46bae1>\u001b[0m in \u001b[0;36mget_each_folder\u001b[0;34m(fold_id, batch_size)\u001b[0m\n\u001b[1;32m      1\u001b[0m \u001b[0;32mdef\u001b[0m \u001b[0mget_each_folder\u001b[0m\u001b[0;34m(\u001b[0m\u001b[0mfold_id\u001b[0m\u001b[0;34m,\u001b[0m \u001b[0mbatch_size\u001b[0m\u001b[0;34m=\u001b[0m\u001b[0;36m1\u001b[0m\u001b[0;34m)\u001b[0m\u001b[0;34m:\u001b[0m\u001b[0;34m\u001b[0m\u001b[0;34m\u001b[0m\u001b[0m\n\u001b[1;32m      2\u001b[0m \u001b[0;34m\u001b[0m\u001b[0m\n\u001b[0;32m----> 3\u001b[0;31m     \u001b[0mfold_test\u001b[0m \u001b[0;34m=\u001b[0m \u001b[0mdatasets_obj\u001b[0m\u001b[0;34m[\u001b[0m\u001b[0;34m'IMDB-BINARY'\u001b[0m\u001b[0;34m]\u001b[0m\u001b[0;34m.\u001b[0m\u001b[0mget_test_fold\u001b[0m\u001b[0;34m(\u001b[0m\u001b[0mfold_id\u001b[0m\u001b[0;34m,\u001b[0m \u001b[0mbatch_size\u001b[0m\u001b[0;34m=\u001b[0m\u001b[0mbatch_size\u001b[0m\u001b[0;34m,\u001b[0m \u001b[0mshuffle\u001b[0m\u001b[0;34m=\u001b[0m\u001b[0;32mTrue\u001b[0m\u001b[0;34m)\u001b[0m\u001b[0;34m.\u001b[0m\u001b[0mdataset\u001b[0m\u001b[0;34m\u001b[0m\u001b[0;34m\u001b[0m\u001b[0m\n\u001b[0m\u001b[1;32m      4\u001b[0m     fold_train, fold_val = datasets_obj['IMDB-BINARY'].get_model_selection_fold(fold_id, inner_idx=None,\n\u001b[1;32m      5\u001b[0m                                                                           batch_size=batch_size, shuffle=True)\n",
      "\u001b[0;31mKeyError\u001b[0m: 'IMDB-BINARY'"
     ]
    }
   ],
   "source": [
    "from grakel.kernels import RandomWalk\n",
    "\n",
    "# TODO: other kernel\n",
    "rw_gk = RandomWalk()\n",
    "\n",
    "train_with_kernel(rw_gk)"
   ]
  },
  {
   "attachments": {},
   "cell_type": "markdown",
   "metadata": {},
   "source": [
    "# SVM for $|V|+\\alpha|E|$"
   ]
  },
  {
   "cell_type": "code",
   "execution_count": 5,
   "metadata": {},
   "outputs": [],
   "source": [
    "from dataset_utils.node_feature_utils import graph_invariant\n",
    "\n",
    "def train_simple_svm(kernel_name, dataset_name, folds_num=10):\n",
    "    res = []\n",
    "    for i in range(folds_num):\n",
    "        train_adjs, test_adjs, train_y, test_y= get_each_folder(dataset_name, i)\n",
    "        # NOTE: adj -> graph_features\n",
    "        \n",
    "        train_x = [graph_invariant(adj=adj[0]) for adj in train_adjs]\n",
    "        test_x = [graph_invariant(adj=adj[0]) for adj in test_adjs]\n",
    "        Classifier = SVC(kernel=kernel_name)\n",
    "        Classifier.fit(train_x, train_y)\n",
    "        y_pred = Classifier.predict(test_x)\n",
    "        # Computes and prints the classification accuracy\n",
    "        acc = accuracy_score(test_y, y_pred)\n",
    "\n",
    "        res.append(acc)\n",
    "        # print(\"Accuracy:\", str(round(acc*100, 2)) + \"%\")\n",
    "        \n",
    "    res = np.array(res)\n",
    "    print(f'Acc, mean: {round(np.mean(res)*100, 4)}, std: {round(100*np.std(res),4)}')\n",
    "\n",
    "\n",
    "\n"
   ]
  },
  {
   "cell_type": "code",
   "execution_count": 28,
   "metadata": {},
   "outputs": [
    {
     "name": "stdout",
     "output_type": "stream",
     "text": [
      "Acc, mean: 85.117, std: 8.0719\n",
      "Acc, mean: 82.9532, std: 7.7978\n",
      "Acc, mean: 86.2281, std: 8.5031\n",
      "Acc, mean: 66.4912, std: 2.2807\n"
     ]
    }
   ],
   "source": [
    "# MUTAG:\n",
    "print('kernel on:', data_names[0])\n",
    "for kr in ['linear', 'poly', 'rbf', 'sigmoid']:\n",
    "    train_simple_svm(kr)"
   ]
  },
  {
   "cell_type": "code",
   "execution_count": 7,
   "metadata": {},
   "outputs": [
    {
     "name": "stdout",
     "output_type": "stream",
     "text": [
      "kernel on: PROTEINS\n",
      "Acc, mean: 69.1739, std: 4.5649\n",
      "Acc, mean: 59.5681, std: 0.1659\n",
      "Acc, mean: 72.5, std: 2.5759\n",
      "Acc, mean: 59.1144, std: 5.4115\n"
     ]
    }
   ],
   "source": [
    "# Proteins:\n",
    "\n",
    "print('kernel on:', data_names[0])\n",
    "for kr in ['linear', 'poly', 'rbf', 'sigmoid']:\n",
    "    print('kernel used:', kr)\n",
    "    train_simple_svm(kr)"
   ]
  },
  {
   "cell_type": "code",
   "execution_count": 7,
   "metadata": {},
   "outputs": [
    {
     "name": "stdout",
     "output_type": "stream",
     "text": [
      "kernel on: DD\n",
      "kernel used: linear\n",
      "Acc, mean: 75.5556, std: 2.3243\n",
      "kernel used: poly\n",
      "Acc, mean: 65.8743, std: 2.5075\n",
      "kernel used: rbf\n",
      "Acc, mean: 76.0648, std: 3.2092\n",
      "kernel used: sigmoid\n",
      "Acc, mean: 62.3801, std: 12.4925\n"
     ]
    }
   ],
   "source": [
    "# DD:\n",
    "\n",
    "print('kernel on:', data_names[0])\n",
    "for kr in ['linear', 'poly', 'rbf', 'sigmoid']:\n",
    "    print('kernel used:', kr)\n",
    "    train_simple_svm(kr)"
   ]
  },
  {
   "cell_type": "code",
   "execution_count": 14,
   "metadata": {},
   "outputs": [
    {
     "name": "stdout",
     "output_type": "stream",
     "text": [
      "kernel on: ENZYMES\n",
      "Acc, mean: 22.3333, std: 4.6068\n",
      "Acc, mean: 20.5, std: 3.5785\n",
      "Acc, mean: 22.3333, std: 3.8152\n",
      "Acc, mean: 13.3333, std: 4.5947\n"
     ]
    }
   ],
   "source": [
    "# ENZYMES:\n",
    "\n",
    "print('kernel on:', data_names[0])\n",
    "for kr in ['linear', 'poly', 'rbf', 'sigmoid']:\n",
    "    train_simple_svm(kr)"
   ]
  },
  {
   "cell_type": "code",
   "execution_count": 11,
   "metadata": {},
   "outputs": [
    {
     "name": "stdout",
     "output_type": "stream",
     "text": [
      "kernel on: NCI1\n",
      "Acc, mean: 62.5061, std: 1.8026\n",
      "Acc, mean: 59.927, std: 1.4106\n",
      "Acc, mean: 62.5061, std: 1.7927\n",
      "Acc, mean: 37.7859, std: 2.1462\n"
     ]
    },
    {
     "ename": "",
     "evalue": "",
     "output_type": "error",
     "traceback": [
      "\u001b[1;31mThe Kernel crashed while executing code in the the current cell or a previous cell. Please review the code in the cell(s) to identify a possible cause of the failure. Click <a href='https://aka.ms/vscodeJupyterKernelCrash'>here</a> for more info. View Jupyter <a href='command:jupyter.viewOutput'>log</a> for further details."
     ]
    }
   ],
   "source": [
    "# NCI1:\n",
    "\n",
    "print('kernel on:', data_names[0])\n",
    "for kr in ['linear', 'poly', 'rbf', 'sigmoid']:\n",
    "    train_simple_svm(kr)"
   ]
  },
  {
   "cell_type": "code",
   "execution_count": 8,
   "metadata": {},
   "outputs": [
    {
     "name": "stdout",
     "output_type": "stream",
     "text": [
      "kernel on: COLLAB\n",
      "Acc, mean: 53.88, std: 1.1737\n",
      "Acc, mean: 60.82, std: 0.6161\n",
      "Acc, mean: 61.66, std: 1.1351\n"
     ]
    }
   ],
   "source": [
    "# COLLAB:\n",
    "\n",
    "print('kernel on:', data_names[0])\n",
    "for kr in ['linear', 'poly', 'rbf']:\n",
    "    train_simple_svm(kr)"
   ]
  },
  {
   "cell_type": "code",
   "execution_count": 9,
   "metadata": {},
   "outputs": [
    {
     "name": "stdout",
     "output_type": "stream",
     "text": [
      "kernel on: IMDB-MULTI\n",
      "Acc, mean: 33.4, std: 0.8138\n",
      "Acc, mean: 40.3333, std: 3.7977\n"
     ]
    }
   ],
   "source": [
    "# IMDB-M:\n",
    "\n",
    "print('kernel on:', data_names[0])\n",
    "for kr in ['poly', 'rbf']:\n",
    "    train_simple_svm(kr, data_names[0])"
   ]
  },
  {
   "cell_type": "code",
   "execution_count": 6,
   "metadata": {},
   "outputs": [
    {
     "name": "stdout",
     "output_type": "stream",
     "text": [
      "kernel on: CIFAR10\n",
      "idxs keys: dict_keys(['train', 'validation'])\n"
     ]
    },
    {
     "name": "stderr",
     "output_type": "stream",
     "text": [
      "WARNING:root:The OGB package is out of date. Your version is 1.3.2, while the latest version is 1.3.5.\n"
     ]
    },
    {
     "name": "stdout",
     "output_type": "stream",
     "text": [
      "Acc, mean: 12.31, std: 0.0\n",
      "idxs keys: dict_keys(['train', 'validation'])\n",
      "Acc, mean: 14.62, std: 0.0\n"
     ]
    }
   ],
   "source": [
    "# CIFAR10\n",
    "\n",
    "print('kernel on:', data_names[0])\n",
    "for kr in ['poly', 'rbf']:\n",
    "    train_simple_svm(kr, data_names[0], folds_num=1)"
   ]
  },
  {
   "cell_type": "code",
   "execution_count": null,
   "metadata": {},
   "outputs": [],
   "source": []
  }
 ],
 "metadata": {
  "kernelspec": {
   "display_name": "Python 3",
   "language": "python",
   "name": "python3"
  },
  "language_info": {
   "codemirror_mode": {
    "name": "ipython",
    "version": 3
   },
   "file_extension": ".py",
   "mimetype": "text/x-python",
   "name": "python",
   "nbconvert_exporter": "python",
   "pygments_lexer": "ipython3",
   "version": "3.6.8"
  },
  "orig_nbformat": 4,
  "vscode": {
   "interpreter": {
    "hash": "767d51c1340bd893661ea55ea3124f6de3c7a262a8b4abca0554b478b1e2ff90"
   }
  }
 },
 "nbformat": 4,
 "nbformat_minor": 2
}
