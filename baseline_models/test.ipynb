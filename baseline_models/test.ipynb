{
 "cells": [
  {
   "cell_type": "code",
   "execution_count": 19,
   "metadata": {},
   "outputs": [
    {
     "name": "stdout",
     "output_type": "stream",
     "text": [
      "SparseTensor(row=tensor([0, 1, 2, 2, 2, 3, 3, 4]),\n",
      "             col=tensor([2, 2, 0, 1, 3, 2, 4, 3]),\n",
      "             size=(5, 5), nnz=8, density=32.00%)\n",
      "SparseTensor(row=tensor([0, 0, 0, 1, 1, 1, 2, 2, 3, 3, 3, 4, 4]),\n",
      "             col=tensor([0, 1, 3, 0, 1, 3, 2, 4, 0, 1, 3, 2, 4]),\n",
      "             size=(5, 5), nnz=13, density=52.00%)\n"
     ]
    }
   ],
   "source": [
    "from operator import index\n",
    "import torch\n",
    "from torch_sparse import SparseTensor\n",
    "from torch import tensor\n",
    "\n",
    "from torch_sparse import SparseTensor, matmul\n",
    "\n",
    "\n",
    "row = torch.tensor([0, 1, 2, 2, 2, 3, 3, 4])\n",
    "col = torch.tensor([2, 2, 0, 1, 3, 2, 4, 3])\n",
    "c = SparseTensor(row=row, col=col)\n",
    "\n",
    "print(c)\n",
    "\n",
    "adjk = matmul(c, c)\n",
    "print(adjk)"
   ]
  },
  {
   "cell_type": "code",
   "execution_count": 17,
   "metadata": {},
   "outputs": [
    {
     "name": "stdout",
     "output_type": "stream",
     "text": [
      "1\n",
      "cpu\n"
     ]
    }
   ],
   "source": [
    "print(aa[0].unsqueeze(-1).dim())\n",
    "\n",
    "print(aa.device)"
   ]
  },
  {
   "cell_type": "code",
   "execution_count": null,
   "metadata": {},
   "outputs": [],
   "source": [
    "from torch_sparse import SparseTensor, matmul"
   ]
  }
 ],
 "metadata": {
  "kernelspec": {
   "display_name": "Python 3.8.9 64-bit",
   "language": "python",
   "name": "python3"
  },
  "language_info": {
   "codemirror_mode": {
    "name": "ipython",
    "version": 3
   },
   "file_extension": ".py",
   "mimetype": "text/x-python",
   "name": "python",
   "nbconvert_exporter": "python",
   "pygments_lexer": "ipython3",
   "version": "3.6.8"
  },
  "orig_nbformat": 4,
  "vscode": {
   "interpreter": {
    "hash": "31f2aee4e71d21fbe5cf8b01ff0e069b9275f58929596ceb00d14d90e3e16cd6"
   }
  }
 },
 "nbformat": 4,
 "nbformat_minor": 2
}
