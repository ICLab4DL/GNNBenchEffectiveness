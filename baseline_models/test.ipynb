{
 "cells": [
  {
   "cell_type": "code",
   "execution_count": 49,
   "metadata": {},
   "outputs": [
    {
     "name": "stdout",
     "output_type": "stream",
     "text": [
      "n_idx tensor([2, 0, 1, 3])\n",
      "n_idx tensor([2, 1, 1, 3])\n",
      "n_idx tensor([2, 1, 1, 3])\n",
      "tensor([4., 3., 3., 5.])\n",
      "tensor([3., 5., 2., 5., 0.])\n"
     ]
    }
   ],
   "source": [
    "from operator import index\n",
    "import torch\n",
    "from torch_sparse import SparseTensor\n",
    "from torch import tensor\n",
    "\n",
    "\n",
    "row = torch.tensor([0, 1, 2, 2, 2, 3, 3, 4])\n",
    "col = torch.tensor([2, 2, 0, 1, 3, 2, 4, 3])\n",
    "val = torch.linspace(1, 8, 8)\n",
    "c = SparseTensor(row=row, col=col, value=val)\n",
    "# print('c = {}'.format(c.to_dense()))\n",
    "# index = torch.tensor([1, 2])\n",
    "d1 = c.index_select(dim=0, idx=torch.tensor([0, 2]))  # 按行采样\n",
    "n_idx = d1.to_torch_sparse_coo_tensor()._indices()[1]\n",
    "print('n_idx', n_idx)\n",
    "\n",
    "n_idx[n_idx==0] = 1\n",
    "print('n_idx', n_idx)\n",
    "\n",
    "n_idx[n_idx==7] += 5\n",
    "print('n_idx', n_idx)\n",
    "\n",
    "xx = torch.arange(2, 12).float()\n",
    "\n",
    "print(xx[n_idx])\n",
    "\n",
    "\n",
    "# result\n",
    "c = tensor([[0., 0., 1., 0., 0.],\n",
    "        [0., 0., 2., 0., 0.],\n",
    "        [3., 4., 0., 5., 0.],\n",
    "        [0., 0., 6., 0., 7.],\n",
    "        [0., 0., 0., 8., 0.]])\n",
    "\n",
    "d1=tensor([[0., 1., 2., 0., 0.],\n",
    "        [3., 4., 0., 5., 0.]])\n",
    "\n",
    "print(torch.sum(d1, dim=0))"
   ]
  },
  {
   "cell_type": "code",
   "execution_count": null,
   "metadata": {},
   "outputs": [],
   "source": []
  }
 ],
 "metadata": {
  "kernelspec": {
   "display_name": "Python 3.9.13 64-bit",
   "language": "python",
   "name": "python3"
  },
  "language_info": {
   "codemirror_mode": {
    "name": "ipython",
    "version": 3
   },
   "file_extension": ".py",
   "mimetype": "text/x-python",
   "name": "python",
   "nbconvert_exporter": "python",
   "pygments_lexer": "ipython3",
   "version": "3.9.13"
  },
  "orig_nbformat": 4,
  "vscode": {
   "interpreter": {
    "hash": "aee8b7b246df8f9039afb4144a1f6fd8d2ca17a180786b69acc140d282b71a49"
   }
  }
 },
 "nbformat": 4,
 "nbformat_minor": 2
}
